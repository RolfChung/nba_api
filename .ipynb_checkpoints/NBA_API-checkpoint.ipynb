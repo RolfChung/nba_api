{
 "cells": [
  {
   "cell_type": "markdown",
   "metadata": {},
   "source": [
    "# Summary\n",
    "\n",
    "<p>\n",
    "This project uses the <a href=\"https://pypi.org/project/nba-api/\">\"nba-api 1.1.9\"</a> as a use case for understanding the topic of <b>REST API clients</b>. The imported data is used for <b>predictive modeling</b>, while this is not the main focus here. The nba-api is a an API Client package to access the APIs for NBA.com. The project is inspired by the Coursera IBM course: \"Python for Data Science, AI & Development\".\n",
    "</p>\n",
    "\n",
    "<p>\n",
    "<b>What is an API?</b><br>\n",
    "\"An <b>API</b> is a set of definitions and protocols for building and integrating application software. It’s sometimes referred to as a contract between an information provider and an information user—establishing the content required from the consumer (the call) and the content required by the producer (the response). For example, the API design for a weather service could specify that the user supply a zip code and that the producer reply with a 2-part answer, the first being the high temperature, and the second being the low.\"<br>\n",
    "<a href=\"https://www.redhat.com/en/topics/api/what-is-a-rest-api\">Redhat</a> \n",
    "</p> \n",
    "\n",
    "\n",
    "<p>\n",
    "<b>What is a RESTful API?</b><br>\n",
    "Software systems can share data. \"The Restful API (Representational State Transfer) works to give the client a series of results once they link to the URL. For Restful API to work, one has to use the correct HTTP procedures. These procedures specify the operation that needs to be carried out with the API.The client sends a call to the server for a given resource. Usually, it is an HTTP request. The server receives the request and starts processing the response by checking the available cache resources that include the requested tag header.\" The server then sends a response back.<br>\n",
    "<a href=\"https://rapidapi.com/blog/api-glossary/what-is-a-restful-api-understanding-the-restful-api-definition/\">Visit api-glossary</a> \n",
    "</p>\n",
    "\n",
    "### Practical approaches:\n",
    "<p>\n",
    "It is helpful to study the rules, proctocols and conceptualization of the API. It is often less strenuous than do trial and error. Also the API's maintained by communities but also by enterprises are prone to disfunction and must be validated regularly. As the data architecture of the data provider NBA changes the \n",
    "API's should be adapted. This is not always the case as the adaption relies on the community. The server site can then create issues, which are not solved by the client-API-site. The file \n",
    "<a href=\"https://github.com/swar/nba_api/blob/master/analysis_archive/stats/analysis.json\" target=\"_blank\">analysis.json</a> offers an overview about the validation state for the NBA API.<br>\n",
    "Below an example of a dysfunctional API at this point in time is given with:<br>\n",
    "<b>An example for a dysfunctional endpoint: LeagueGameFinder</b><br>\n",
    "This can be only temporarily.\n",
    "</p>\n",
    "\n"
   ]
  },
  {
   "cell_type": "markdown",
   "metadata": {},
   "source": [
    "### Installing the API with pip"
   ]
  },
  {
   "cell_type": "code",
   "execution_count": 1,
   "metadata": {
    "collapsed": false,
    "jupyter": {
     "outputs_hidden": false
    }
   },
   "outputs": [],
   "source": [
    "a = !pip install nba_api"
   ]
  },
  {
   "cell_type": "markdown",
   "metadata": {},
   "source": [
    "### Installing general Python packages"
   ]
  },
  {
   "cell_type": "code",
   "execution_count": 2,
   "metadata": {},
   "outputs": [],
   "source": [
    "import pandas as pd\n",
    "import numpy as np\n",
    "import matplotlib.pyplot as plt"
   ]
  },
  {
   "cell_type": "markdown",
   "metadata": {},
   "source": [
    "<p>\n",
    "<b>What Is An API Endpoint?</b><br>\n",
    "\"In simple terms, an API endpoint is the point of entry in a communication channel when two systems are interacting.  It refers to touchpoints of the communication between an API and a server. The endpoint can be viewed as the means from which the API can access the resources they need from a server to perform their task. An API endpoint is basically a fancy word for a URL of a server or service.\"<br>\n",
    "<a href=\"https://rapidapi.com/blog/api-glossary/endpoint/\">Visit api-glossary</a> \n",
    "</p>"
   ]
  },
  {
   "cell_type": "code",
   "execution_count": 3,
   "metadata": {},
   "outputs": [],
   "source": [
    "from nba_api.stats import endpoints"
   ]
  },
  {
   "cell_type": "markdown",
   "metadata": {},
   "source": [
    "<p>\n",
    "In the special case of the NBA API there are two important API's: the static API's and the endpoint API's.\n",
    "There are a lot more statistical detailed data in the endpoint modules, but\n",
    "the static module offers entry information about teams and players.\n",
    "This entry level information delivers also useful information for calling more detailed \n",
    "information with the REST endpoint API.\n",
    "</p>"
   ]
  },
  {
   "cell_type": "markdown",
   "metadata": {},
   "source": [
    "### Importing the NBA data: teams\n",
    "\n",
    "<p>\n",
    "from the static module. \n",
    "</p>\n"
   ]
  },
  {
   "cell_type": "code",
   "execution_count": 4,
   "metadata": {},
   "outputs": [],
   "source": [
    "from nba_api.stats.static import teams"
   ]
  },
  {
   "cell_type": "code",
   "execution_count": 5,
   "metadata": {},
   "outputs": [
    {
     "data": {
      "text/plain": [
       "['__builtins__',\n",
       " '__cached__',\n",
       " '__doc__',\n",
       " '__file__',\n",
       " '__loader__',\n",
       " '__name__',\n",
       " '__package__',\n",
       " '__spec__',\n",
       " '_find_teams',\n",
       " '_get_team_dict',\n",
       " 'find_team_by_abbreviation',\n",
       " 'find_team_name_by_id',\n",
       " 'find_teams_by_city',\n",
       " 'find_teams_by_full_name',\n",
       " 'find_teams_by_nickname',\n",
       " 'find_teams_by_state',\n",
       " 'find_teams_by_year_founded',\n",
       " 'get_teams',\n",
       " 're',\n",
       " 'team_index_abbreviation',\n",
       " 'team_index_city',\n",
       " 'team_index_full_name',\n",
       " 'team_index_id',\n",
       " 'team_index_nickname',\n",
       " 'team_index_state',\n",
       " 'team_index_year_founded',\n",
       " 'teams']"
      ]
     },
     "execution_count": 5,
     "metadata": {},
     "output_type": "execute_result"
    }
   ],
   "source": [
    "dir(teams)"
   ]
  },
  {
   "cell_type": "markdown",
   "metadata": {},
   "source": [
    "<b>Exploring the functions provided by the API.</b>"
   ]
  },
  {
   "cell_type": "code",
   "execution_count": 6,
   "metadata": {},
   "outputs": [
    {
     "data": {
      "text/plain": [
       "{'id': 1610612738,\n",
       " 'full_name': 'Boston Celtics',\n",
       " 'abbreviation': 'BOS',\n",
       " 'nickname': 'Celtics',\n",
       " 'city': 'Boston',\n",
       " 'state': 'Massachusetts',\n",
       " 'year_founded': 1946}"
      ]
     },
     "execution_count": 6,
     "metadata": {},
     "output_type": "execute_result"
    }
   ],
   "source": [
    "teams.find_team_name_by_id(1610612738)"
   ]
  },
  {
   "cell_type": "code",
   "execution_count": 7,
   "metadata": {},
   "outputs": [
    {
     "data": {
      "text/plain": [
       "[{'id': 1610612737,\n",
       "  'full_name': 'Atlanta Hawks',\n",
       "  'abbreviation': 'ATL',\n",
       "  'nickname': 'Hawks',\n",
       "  'city': 'Atlanta',\n",
       "  'state': 'Atlanta',\n",
       "  'year_founded': 1949}]"
      ]
     },
     "execution_count": 7,
     "metadata": {},
     "output_type": "execute_result"
    }
   ],
   "source": [
    "teams.find_teams_by_full_name('Atlanta Hawks')"
   ]
  },
  {
   "cell_type": "code",
   "execution_count": 8,
   "metadata": {},
   "outputs": [
    {
     "data": {
      "text/plain": [
       "[{'id': 1610612752,\n",
       "  'full_name': 'New York Knicks',\n",
       "  'abbreviation': 'NYK',\n",
       "  'nickname': 'Knicks',\n",
       "  'city': 'New York',\n",
       "  'state': 'New York',\n",
       "  'year_founded': 1946}]"
      ]
     },
     "execution_count": 8,
     "metadata": {},
     "output_type": "execute_result"
    }
   ],
   "source": [
    "teams.find_teams_by_city('New York')"
   ]
  },
  {
   "cell_type": "code",
   "execution_count": 9,
   "metadata": {},
   "outputs": [
    {
     "data": {
      "text/plain": [
       "[{'id': 1610612744,\n",
       "  'full_name': 'Golden State Warriors',\n",
       "  'abbreviation': 'GSW',\n",
       "  'nickname': 'Warriors',\n",
       "  'city': 'Golden State',\n",
       "  'state': 'California',\n",
       "  'year_founded': 1946},\n",
       " {'id': 1610612746,\n",
       "  'full_name': 'Los Angeles Clippers',\n",
       "  'abbreviation': 'LAC',\n",
       "  'nickname': 'Clippers',\n",
       "  'city': 'Los Angeles',\n",
       "  'state': 'California',\n",
       "  'year_founded': 1970},\n",
       " {'id': 1610612747,\n",
       "  'full_name': 'Los Angeles Lakers',\n",
       "  'abbreviation': 'LAL',\n",
       "  'nickname': 'Lakers',\n",
       "  'city': 'Los Angeles',\n",
       "  'state': 'California',\n",
       "  'year_founded': 1948},\n",
       " {'id': 1610612758,\n",
       "  'full_name': 'Sacramento Kings',\n",
       "  'abbreviation': 'SAC',\n",
       "  'nickname': 'Kings',\n",
       "  'city': 'Sacramento',\n",
       "  'state': 'California',\n",
       "  'year_founded': 1948}]"
      ]
     },
     "execution_count": 9,
     "metadata": {},
     "output_type": "execute_result"
    }
   ],
   "source": [
    "teams.find_teams_by_state('California')"
   ]
  },
  {
   "cell_type": "code",
   "execution_count": 10,
   "metadata": {},
   "outputs": [
    {
     "data": {
      "text/plain": [
       "5"
      ]
     },
     "execution_count": 10,
     "metadata": {},
     "output_type": "execute_result"
    }
   ],
   "source": [
    "teams.team_index_full_name"
   ]
  },
  {
   "cell_type": "markdown",
   "metadata": {},
   "source": [
    "The method <b>get_teams()</b> returns a list of dictionaries.<br>\n",
    "The dictionary key id is a unique identifier for each team.<br>\n",
    "This is useful when calling the API's in the endpoint module.\n"
   ]
  },
  {
   "cell_type": "code",
   "execution_count": 11,
   "metadata": {},
   "outputs": [],
   "source": [
    "nba_teams = teams.get_teams()"
   ]
  },
  {
   "cell_type": "code",
   "execution_count": 12,
   "metadata": {},
   "outputs": [
    {
     "name": "stdout",
     "output_type": "stream",
     "text": [
      "<class 'list'>\n"
     ]
    }
   ],
   "source": [
    "print(type(nba_teams))"
   ]
  },
  {
   "cell_type": "code",
   "execution_count": 13,
   "metadata": {},
   "outputs": [
    {
     "data": {
      "text/plain": [
       "[{'id': 1610612737,\n",
       "  'full_name': 'Atlanta Hawks',\n",
       "  'abbreviation': 'ATL',\n",
       "  'nickname': 'Hawks',\n",
       "  'city': 'Atlanta',\n",
       "  'state': 'Atlanta',\n",
       "  'year_founded': 1949},\n",
       " {'id': 1610612738,\n",
       "  'full_name': 'Boston Celtics',\n",
       "  'abbreviation': 'BOS',\n",
       "  'nickname': 'Celtics',\n",
       "  'city': 'Boston',\n",
       "  'state': 'Massachusetts',\n",
       "  'year_founded': 1946},\n",
       " {'id': 1610612739,\n",
       "  'full_name': 'Cleveland Cavaliers',\n",
       "  'abbreviation': 'CLE',\n",
       "  'nickname': 'Cavaliers',\n",
       "  'city': 'Cleveland',\n",
       "  'state': 'Ohio',\n",
       "  'year_founded': 1970}]"
      ]
     },
     "execution_count": 13,
     "metadata": {},
     "output_type": "execute_result"
    }
   ],
   "source": [
    "nba_teams[0:3]"
   ]
  },
  {
   "cell_type": "code",
   "execution_count": 14,
   "metadata": {},
   "outputs": [
    {
     "name": "stdout",
     "output_type": "stream",
     "text": [
      "dict_values([1610612737, 'Atlanta Hawks', 'ATL', 'Hawks', 'Atlanta', 'Atlanta', 1949])\n"
     ]
    }
   ],
   "source": [
    "AtlantaHawks_dict = nba_teams[0].values()\n",
    "print(AtlantaHawks_dict)"
   ]
  },
  {
   "cell_type": "code",
   "execution_count": 15,
   "metadata": {},
   "outputs": [
    {
     "name": "stdout",
     "output_type": "stream",
     "text": [
      "1610612737\n"
     ]
    }
   ],
   "source": [
    "AtlantaHawks_dict_id = list(nba_teams[0].values())[0]\n",
    "print(AtlantaHawks_dict_id)"
   ]
  },
  {
   "cell_type": "markdown",
   "metadata": {},
   "source": [
    "<b>Using Pandas for exploring the Teams data</b><br>\n",
    "Now as the data is imported it is \"business as usual\"."
   ]
  },
  {
   "cell_type": "code",
   "execution_count": 16,
   "metadata": {},
   "outputs": [
    {
     "data": {
      "text/html": [
       "<div>\n",
       "<style scoped>\n",
       "    .dataframe tbody tr th:only-of-type {\n",
       "        vertical-align: middle;\n",
       "    }\n",
       "\n",
       "    .dataframe tbody tr th {\n",
       "        vertical-align: top;\n",
       "    }\n",
       "\n",
       "    .dataframe thead th {\n",
       "        text-align: right;\n",
       "    }\n",
       "</style>\n",
       "<table border=\"1\" class=\"dataframe\">\n",
       "  <thead>\n",
       "    <tr style=\"text-align: right;\">\n",
       "      <th></th>\n",
       "      <th>id</th>\n",
       "      <th>full_name</th>\n",
       "      <th>abbreviation</th>\n",
       "      <th>nickname</th>\n",
       "      <th>city</th>\n",
       "      <th>state</th>\n",
       "      <th>year_founded</th>\n",
       "    </tr>\n",
       "  </thead>\n",
       "  <tbody>\n",
       "    <tr>\n",
       "      <th>0</th>\n",
       "      <td>1610612737</td>\n",
       "      <td>Atlanta Hawks</td>\n",
       "      <td>ATL</td>\n",
       "      <td>Hawks</td>\n",
       "      <td>Atlanta</td>\n",
       "      <td>Atlanta</td>\n",
       "      <td>1949</td>\n",
       "    </tr>\n",
       "    <tr>\n",
       "      <th>1</th>\n",
       "      <td>1610612738</td>\n",
       "      <td>Boston Celtics</td>\n",
       "      <td>BOS</td>\n",
       "      <td>Celtics</td>\n",
       "      <td>Boston</td>\n",
       "      <td>Massachusetts</td>\n",
       "      <td>1946</td>\n",
       "    </tr>\n",
       "    <tr>\n",
       "      <th>2</th>\n",
       "      <td>1610612739</td>\n",
       "      <td>Cleveland Cavaliers</td>\n",
       "      <td>CLE</td>\n",
       "      <td>Cavaliers</td>\n",
       "      <td>Cleveland</td>\n",
       "      <td>Ohio</td>\n",
       "      <td>1970</td>\n",
       "    </tr>\n",
       "    <tr>\n",
       "      <th>3</th>\n",
       "      <td>1610612740</td>\n",
       "      <td>New Orleans Pelicans</td>\n",
       "      <td>NOP</td>\n",
       "      <td>Pelicans</td>\n",
       "      <td>New Orleans</td>\n",
       "      <td>Louisiana</td>\n",
       "      <td>2002</td>\n",
       "    </tr>\n",
       "    <tr>\n",
       "      <th>4</th>\n",
       "      <td>1610612741</td>\n",
       "      <td>Chicago Bulls</td>\n",
       "      <td>CHI</td>\n",
       "      <td>Bulls</td>\n",
       "      <td>Chicago</td>\n",
       "      <td>Illinois</td>\n",
       "      <td>1966</td>\n",
       "    </tr>\n",
       "  </tbody>\n",
       "</table>\n",
       "</div>"
      ],
      "text/plain": [
       "           id             full_name abbreviation   nickname         city  \\\n",
       "0  1610612737         Atlanta Hawks          ATL      Hawks      Atlanta   \n",
       "1  1610612738        Boston Celtics          BOS    Celtics       Boston   \n",
       "2  1610612739   Cleveland Cavaliers          CLE  Cavaliers    Cleveland   \n",
       "3  1610612740  New Orleans Pelicans          NOP   Pelicans  New Orleans   \n",
       "4  1610612741         Chicago Bulls          CHI      Bulls      Chicago   \n",
       "\n",
       "           state  year_founded  \n",
       "0        Atlanta          1949  \n",
       "1  Massachusetts          1946  \n",
       "2           Ohio          1970  \n",
       "3      Louisiana          2002  \n",
       "4       Illinois          1966  "
      ]
     },
     "execution_count": 16,
     "metadata": {},
     "output_type": "execute_result"
    }
   ],
   "source": [
    "nba_teams_2 = nba_teams.copy()\n",
    "nba_teams_2_df = pd.DataFrame(nba_teams_2)\n",
    "nba_teams_2_df.head()"
   ]
  },
  {
   "cell_type": "code",
   "execution_count": 17,
   "metadata": {},
   "outputs": [
    {
     "data": {
      "text/html": [
       "<div>\n",
       "<style scoped>\n",
       "    .dataframe tbody tr th:only-of-type {\n",
       "        vertical-align: middle;\n",
       "    }\n",
       "\n",
       "    .dataframe tbody tr th {\n",
       "        vertical-align: top;\n",
       "    }\n",
       "\n",
       "    .dataframe thead th {\n",
       "        text-align: right;\n",
       "    }\n",
       "</style>\n",
       "<table border=\"1\" class=\"dataframe\">\n",
       "  <thead>\n",
       "    <tr style=\"text-align: right;\">\n",
       "      <th></th>\n",
       "      <th>id</th>\n",
       "      <th>full_name</th>\n",
       "      <th>abbreviation</th>\n",
       "      <th>nickname</th>\n",
       "      <th>city</th>\n",
       "      <th>state</th>\n",
       "      <th>year_founded</th>\n",
       "    </tr>\n",
       "  </thead>\n",
       "  <tbody>\n",
       "    <tr>\n",
       "      <th>25</th>\n",
       "      <td>1610612762</td>\n",
       "      <td>Utah Jazz</td>\n",
       "      <td>UTA</td>\n",
       "      <td>Jazz</td>\n",
       "      <td>Utah</td>\n",
       "      <td>Utah</td>\n",
       "      <td>1974</td>\n",
       "    </tr>\n",
       "    <tr>\n",
       "      <th>26</th>\n",
       "      <td>1610612763</td>\n",
       "      <td>Memphis Grizzlies</td>\n",
       "      <td>MEM</td>\n",
       "      <td>Grizzlies</td>\n",
       "      <td>Memphis</td>\n",
       "      <td>Tennessee</td>\n",
       "      <td>1995</td>\n",
       "    </tr>\n",
       "    <tr>\n",
       "      <th>27</th>\n",
       "      <td>1610612764</td>\n",
       "      <td>Washington Wizards</td>\n",
       "      <td>WAS</td>\n",
       "      <td>Wizards</td>\n",
       "      <td>Washington</td>\n",
       "      <td>District of Columbia</td>\n",
       "      <td>1961</td>\n",
       "    </tr>\n",
       "    <tr>\n",
       "      <th>28</th>\n",
       "      <td>1610612765</td>\n",
       "      <td>Detroit Pistons</td>\n",
       "      <td>DET</td>\n",
       "      <td>Pistons</td>\n",
       "      <td>Detroit</td>\n",
       "      <td>Michigan</td>\n",
       "      <td>1948</td>\n",
       "    </tr>\n",
       "    <tr>\n",
       "      <th>29</th>\n",
       "      <td>1610612766</td>\n",
       "      <td>Charlotte Hornets</td>\n",
       "      <td>CHA</td>\n",
       "      <td>Hornets</td>\n",
       "      <td>Charlotte</td>\n",
       "      <td>North Carolina</td>\n",
       "      <td>1988</td>\n",
       "    </tr>\n",
       "  </tbody>\n",
       "</table>\n",
       "</div>"
      ],
      "text/plain": [
       "            id           full_name abbreviation   nickname        city  \\\n",
       "25  1610612762           Utah Jazz          UTA       Jazz        Utah   \n",
       "26  1610612763   Memphis Grizzlies          MEM  Grizzlies     Memphis   \n",
       "27  1610612764  Washington Wizards          WAS    Wizards  Washington   \n",
       "28  1610612765     Detroit Pistons          DET    Pistons     Detroit   \n",
       "29  1610612766   Charlotte Hornets          CHA    Hornets   Charlotte   \n",
       "\n",
       "                   state  year_founded  \n",
       "25                  Utah          1974  \n",
       "26             Tennessee          1995  \n",
       "27  District of Columbia          1961  \n",
       "28              Michigan          1948  \n",
       "29        North Carolina          1988  "
      ]
     },
     "execution_count": 17,
     "metadata": {},
     "output_type": "execute_result"
    }
   ],
   "source": [
    "nba_teams_2_df.tail()"
   ]
  },
  {
   "cell_type": "code",
   "execution_count": 18,
   "metadata": {},
   "outputs": [
    {
     "name": "stdout",
     "output_type": "stream",
     "text": [
      "<class 'pandas.core.frame.DataFrame'>\n",
      "RangeIndex: 30 entries, 0 to 29\n",
      "Data columns (total 7 columns):\n",
      " #   Column        Non-Null Count  Dtype \n",
      "---  ------        --------------  ----- \n",
      " 0   id            30 non-null     int64 \n",
      " 1   full_name     30 non-null     object\n",
      " 2   abbreviation  30 non-null     object\n",
      " 3   nickname      30 non-null     object\n",
      " 4   city          30 non-null     object\n",
      " 5   state         30 non-null     object\n",
      " 6   year_founded  30 non-null     int64 \n",
      "dtypes: int64(2), object(5)\n",
      "memory usage: 1.8+ KB\n"
     ]
    }
   ],
   "source": [
    "nba_teams_2_df.info()"
   ]
  },
  {
   "cell_type": "code",
   "execution_count": 19,
   "metadata": {},
   "outputs": [
    {
     "data": {
      "text/plain": [
       "state\n",
       "Arizona                 1\n",
       "Atlanta                 1\n",
       "California              4\n",
       "Colorado                1\n",
       "District of Columbia    1\n",
       "Florida                 2\n",
       "Illinois                1\n",
       "Indiana                 1\n",
       "Louisiana               1\n",
       "Massachusetts           1\n",
       "Michigan                1\n",
       "Minnesota               1\n",
       "New York                2\n",
       "North Carolina          1\n",
       "Ohio                    1\n",
       "Oklahoma                1\n",
       "Ontario                 1\n",
       "Oregon                  1\n",
       "Pennsylvania            1\n",
       "Tennessee               1\n",
       "Texas                   3\n",
       "Utah                    1\n",
       "Wisconsin               1\n",
       "Name: full_name, dtype: int64"
      ]
     },
     "execution_count": 19,
     "metadata": {},
     "output_type": "execute_result"
    }
   ],
   "source": [
    "nba_teams_2_gb = nba_teams_2_df.groupby('state')['full_name'].count()\n",
    "nba_teams_2_gb "
   ]
  },
  {
   "cell_type": "code",
   "execution_count": 20,
   "metadata": {},
   "outputs": [
    {
     "data": {
      "image/png": "[encoded data removed]",
      "text/plain": [
       "<Figure size 720x288 with 1 Axes>"
      ]
     },
     "metadata": {
      "needs_background": "light"
     },
     "output_type": "display_data"
    }
   ],
   "source": [
    "nba_teams_2_gb.sort_values().plot(kind='bar', title=\"NBA states per state\",\n",
    "                                 edgecolor='black', linewidth=2, figsize=(10,4),\n",
    "                                 color=['r', 'g', 'b', 'y'])\n",
    "plt.grid(color='g', linestyle='-.', linewidth=0.3)\n",
    "plt.show()"
   ]
  },
  {
   "cell_type": "markdown",
   "metadata": {},
   "source": [
    "California & Texas"
   ]
  },
  {
   "cell_type": "code",
   "execution_count": 21,
   "metadata": {},
   "outputs": [
    {
     "data": {
      "text/html": [
       "<div>\n",
       "<style scoped>\n",
       "    .dataframe tbody tr th:only-of-type {\n",
       "        vertical-align: middle;\n",
       "    }\n",
       "\n",
       "    .dataframe tbody tr th {\n",
       "        vertical-align: top;\n",
       "    }\n",
       "\n",
       "    .dataframe thead th {\n",
       "        text-align: right;\n",
       "    }\n",
       "</style>\n",
       "<table border=\"1\" class=\"dataframe\">\n",
       "  <thead>\n",
       "    <tr style=\"text-align: right;\">\n",
       "      <th></th>\n",
       "      <th>id</th>\n",
       "      <th>full_name</th>\n",
       "      <th>abbreviation</th>\n",
       "      <th>nickname</th>\n",
       "      <th>city</th>\n",
       "      <th>state</th>\n",
       "      <th>year_founded</th>\n",
       "    </tr>\n",
       "  </thead>\n",
       "  <tbody>\n",
       "    <tr>\n",
       "      <th>7</th>\n",
       "      <td>1610612744</td>\n",
       "      <td>Golden State Warriors</td>\n",
       "      <td>GSW</td>\n",
       "      <td>Warriors</td>\n",
       "      <td>Golden State</td>\n",
       "      <td>California</td>\n",
       "      <td>1946</td>\n",
       "    </tr>\n",
       "    <tr>\n",
       "      <th>9</th>\n",
       "      <td>1610612746</td>\n",
       "      <td>Los Angeles Clippers</td>\n",
       "      <td>LAC</td>\n",
       "      <td>Clippers</td>\n",
       "      <td>Los Angeles</td>\n",
       "      <td>California</td>\n",
       "      <td>1970</td>\n",
       "    </tr>\n",
       "    <tr>\n",
       "      <th>10</th>\n",
       "      <td>1610612747</td>\n",
       "      <td>Los Angeles Lakers</td>\n",
       "      <td>LAL</td>\n",
       "      <td>Lakers</td>\n",
       "      <td>Los Angeles</td>\n",
       "      <td>California</td>\n",
       "      <td>1948</td>\n",
       "    </tr>\n",
       "    <tr>\n",
       "      <th>21</th>\n",
       "      <td>1610612758</td>\n",
       "      <td>Sacramento Kings</td>\n",
       "      <td>SAC</td>\n",
       "      <td>Kings</td>\n",
       "      <td>Sacramento</td>\n",
       "      <td>California</td>\n",
       "      <td>1948</td>\n",
       "    </tr>\n",
       "  </tbody>\n",
       "</table>\n",
       "</div>"
      ],
      "text/plain": [
       "            id              full_name abbreviation  nickname          city  \\\n",
       "7   1610612744  Golden State Warriors          GSW  Warriors  Golden State   \n",
       "9   1610612746   Los Angeles Clippers          LAC  Clippers   Los Angeles   \n",
       "10  1610612747     Los Angeles Lakers          LAL    Lakers   Los Angeles   \n",
       "21  1610612758       Sacramento Kings          SAC     Kings    Sacramento   \n",
       "\n",
       "         state  year_founded  \n",
       "7   California          1946  \n",
       "9   California          1970  \n",
       "10  California          1948  \n",
       "21  California          1948  "
      ]
     },
     "execution_count": 21,
     "metadata": {},
     "output_type": "execute_result"
    }
   ],
   "source": [
    "nba_teams_2_df[nba_teams_2_df.state=='California']"
   ]
  },
  {
   "cell_type": "code",
   "execution_count": 22,
   "metadata": {},
   "outputs": [
    {
     "data": {
      "text/html": [
       "<div>\n",
       "<style scoped>\n",
       "    .dataframe tbody tr th:only-of-type {\n",
       "        vertical-align: middle;\n",
       "    }\n",
       "\n",
       "    .dataframe tbody tr th {\n",
       "        vertical-align: top;\n",
       "    }\n",
       "\n",
       "    .dataframe thead th {\n",
       "        text-align: right;\n",
       "    }\n",
       "</style>\n",
       "<table border=\"1\" class=\"dataframe\">\n",
       "  <thead>\n",
       "    <tr style=\"text-align: right;\">\n",
       "      <th></th>\n",
       "      <th>id</th>\n",
       "      <th>full_name</th>\n",
       "      <th>abbreviation</th>\n",
       "      <th>nickname</th>\n",
       "      <th>city</th>\n",
       "      <th>state</th>\n",
       "      <th>year_founded</th>\n",
       "    </tr>\n",
       "  </thead>\n",
       "  <tbody>\n",
       "    <tr>\n",
       "      <th>5</th>\n",
       "      <td>1610612742</td>\n",
       "      <td>Dallas Mavericks</td>\n",
       "      <td>DAL</td>\n",
       "      <td>Mavericks</td>\n",
       "      <td>Dallas</td>\n",
       "      <td>Texas</td>\n",
       "      <td>1980</td>\n",
       "    </tr>\n",
       "    <tr>\n",
       "      <th>8</th>\n",
       "      <td>1610612745</td>\n",
       "      <td>Houston Rockets</td>\n",
       "      <td>HOU</td>\n",
       "      <td>Rockets</td>\n",
       "      <td>Houston</td>\n",
       "      <td>Texas</td>\n",
       "      <td>1967</td>\n",
       "    </tr>\n",
       "    <tr>\n",
       "      <th>22</th>\n",
       "      <td>1610612759</td>\n",
       "      <td>San Antonio Spurs</td>\n",
       "      <td>SAS</td>\n",
       "      <td>Spurs</td>\n",
       "      <td>San Antonio</td>\n",
       "      <td>Texas</td>\n",
       "      <td>1976</td>\n",
       "    </tr>\n",
       "  </tbody>\n",
       "</table>\n",
       "</div>"
      ],
      "text/plain": [
       "            id          full_name abbreviation   nickname         city  state  \\\n",
       "5   1610612742   Dallas Mavericks          DAL  Mavericks       Dallas  Texas   \n",
       "8   1610612745    Houston Rockets          HOU    Rockets      Houston  Texas   \n",
       "22  1610612759  San Antonio Spurs          SAS      Spurs  San Antonio  Texas   \n",
       "\n",
       "    year_founded  \n",
       "5           1980  \n",
       "8           1967  \n",
       "22          1976  "
      ]
     },
     "execution_count": 22,
     "metadata": {},
     "output_type": "execute_result"
    }
   ],
   "source": [
    "nba_teams_2_df[nba_teams_2_df.state=='Texas']"
   ]
  },
  {
   "cell_type": "code",
   "execution_count": 23,
   "metadata": {},
   "outputs": [
    {
     "data": {
      "text/html": [
       "<div>\n",
       "<style scoped>\n",
       "    .dataframe tbody tr th:only-of-type {\n",
       "        vertical-align: middle;\n",
       "    }\n",
       "\n",
       "    .dataframe tbody tr th {\n",
       "        vertical-align: top;\n",
       "    }\n",
       "\n",
       "    .dataframe thead th {\n",
       "        text-align: right;\n",
       "    }\n",
       "</style>\n",
       "<table border=\"1\" class=\"dataframe\">\n",
       "  <thead>\n",
       "    <tr style=\"text-align: right;\">\n",
       "      <th></th>\n",
       "      <th>id</th>\n",
       "      <th>full_name</th>\n",
       "      <th>abbreviation</th>\n",
       "      <th>nickname</th>\n",
       "      <th>city</th>\n",
       "      <th>state</th>\n",
       "      <th>year_founded</th>\n",
       "    </tr>\n",
       "  </thead>\n",
       "  <tbody>\n",
       "    <tr>\n",
       "      <th>14</th>\n",
       "      <td>1610612751</td>\n",
       "      <td>Brooklyn Nets</td>\n",
       "      <td>BKN</td>\n",
       "      <td>Nets</td>\n",
       "      <td>Brooklyn</td>\n",
       "      <td>New York</td>\n",
       "      <td>1976</td>\n",
       "    </tr>\n",
       "    <tr>\n",
       "      <th>15</th>\n",
       "      <td>1610612752</td>\n",
       "      <td>New York Knicks</td>\n",
       "      <td>NYK</td>\n",
       "      <td>Knicks</td>\n",
       "      <td>New York</td>\n",
       "      <td>New York</td>\n",
       "      <td>1946</td>\n",
       "    </tr>\n",
       "  </tbody>\n",
       "</table>\n",
       "</div>"
      ],
      "text/plain": [
       "            id        full_name abbreviation nickname      city     state  \\\n",
       "14  1610612751    Brooklyn Nets          BKN     Nets  Brooklyn  New York   \n",
       "15  1610612752  New York Knicks          NYK   Knicks  New York  New York   \n",
       "\n",
       "    year_founded  \n",
       "14          1976  \n",
       "15          1946  "
      ]
     },
     "execution_count": 23,
     "metadata": {},
     "output_type": "execute_result"
    }
   ],
   "source": [
    "nba_teams_2_df[nba_teams_2_df.state=='New York']"
   ]
  },
  {
   "cell_type": "markdown",
   "metadata": {},
   "source": [
    "There is an error in the data as Brooklyn is not a city I guess or not?"
   ]
  },
  {
   "cell_type": "code",
   "execution_count": 24,
   "metadata": {},
   "outputs": [],
   "source": [
    "nba_teams_2_df.loc[nba_teams_2_df.full_name == 'Brooklyn Nets', 'city'] = 'New York'"
   ]
  },
  {
   "cell_type": "code",
   "execution_count": 25,
   "metadata": {},
   "outputs": [
    {
     "data": {
      "text/html": [
       "<div>\n",
       "<style scoped>\n",
       "    .dataframe tbody tr th:only-of-type {\n",
       "        vertical-align: middle;\n",
       "    }\n",
       "\n",
       "    .dataframe tbody tr th {\n",
       "        vertical-align: top;\n",
       "    }\n",
       "\n",
       "    .dataframe thead th {\n",
       "        text-align: right;\n",
       "    }\n",
       "</style>\n",
       "<table border=\"1\" class=\"dataframe\">\n",
       "  <thead>\n",
       "    <tr style=\"text-align: right;\">\n",
       "      <th></th>\n",
       "      <th>id</th>\n",
       "      <th>full_name</th>\n",
       "      <th>abbreviation</th>\n",
       "      <th>nickname</th>\n",
       "      <th>city</th>\n",
       "      <th>state</th>\n",
       "      <th>year_founded</th>\n",
       "    </tr>\n",
       "  </thead>\n",
       "  <tbody>\n",
       "    <tr>\n",
       "      <th>14</th>\n",
       "      <td>1610612751</td>\n",
       "      <td>Brooklyn Nets</td>\n",
       "      <td>BKN</td>\n",
       "      <td>Nets</td>\n",
       "      <td>New York</td>\n",
       "      <td>New York</td>\n",
       "      <td>1976</td>\n",
       "    </tr>\n",
       "    <tr>\n",
       "      <th>15</th>\n",
       "      <td>1610612752</td>\n",
       "      <td>New York Knicks</td>\n",
       "      <td>NYK</td>\n",
       "      <td>Knicks</td>\n",
       "      <td>New York</td>\n",
       "      <td>New York</td>\n",
       "      <td>1946</td>\n",
       "    </tr>\n",
       "  </tbody>\n",
       "</table>\n",
       "</div>"
      ],
      "text/plain": [
       "            id        full_name abbreviation nickname      city     state  \\\n",
       "14  1610612751    Brooklyn Nets          BKN     Nets  New York  New York   \n",
       "15  1610612752  New York Knicks          NYK   Knicks  New York  New York   \n",
       "\n",
       "    year_founded  \n",
       "14          1976  \n",
       "15          1946  "
      ]
     },
     "execution_count": 25,
     "metadata": {},
     "output_type": "execute_result"
    }
   ],
   "source": [
    "nba_teams_2_df[nba_teams_2_df.state=='New York']"
   ]
  },
  {
   "cell_type": "markdown",
   "metadata": {},
   "source": [
    "<b>Selecting teams</b>"
   ]
  },
  {
   "cell_type": "code",
   "execution_count": 26,
   "metadata": {},
   "outputs": [
    {
     "name": "stdout",
     "output_type": "stream",
     "text": [
      "30\n",
      "30\n"
     ]
    }
   ],
   "source": [
    "# Check if a teams is more than once represented in the data,\n",
    "# either due to error or other reasons.\n",
    "print(len(nba_teams_2_df.full_name))\n",
    "print(len(nba_teams_2_df.full_name.unique()))"
   ]
  },
  {
   "cell_type": "code",
   "execution_count": 27,
   "metadata": {},
   "outputs": [
    {
     "data": {
      "text/plain": [
       "0              Atlanta Hawks\n",
       "1             Boston Celtics\n",
       "2        Cleveland Cavaliers\n",
       "3       New Orleans Pelicans\n",
       "4              Chicago Bulls\n",
       "5           Dallas Mavericks\n",
       "6             Denver Nuggets\n",
       "7      Golden State Warriors\n",
       "8            Houston Rockets\n",
       "9       Los Angeles Clippers\n",
       "10        Los Angeles Lakers\n",
       "11                Miami Heat\n",
       "12           Milwaukee Bucks\n",
       "13    Minnesota Timberwolves\n",
       "14             Brooklyn Nets\n",
       "15           New York Knicks\n",
       "16             Orlando Magic\n",
       "17            Indiana Pacers\n",
       "18        Philadelphia 76ers\n",
       "19              Phoenix Suns\n",
       "20    Portland Trail Blazers\n",
       "21          Sacramento Kings\n",
       "22         San Antonio Spurs\n",
       "23     Oklahoma City Thunder\n",
       "24           Toronto Raptors\n",
       "25                 Utah Jazz\n",
       "26         Memphis Grizzlies\n",
       "27        Washington Wizards\n",
       "28           Detroit Pistons\n",
       "29         Charlotte Hornets\n",
       "Name: full_name, dtype: object"
      ]
     },
     "execution_count": 27,
     "metadata": {},
     "output_type": "execute_result"
    }
   ],
   "source": [
    "# All teams represented in the data\n",
    "nba_teams_2_df.full_name"
   ]
  },
  {
   "cell_type": "code",
   "execution_count": 28,
   "metadata": {},
   "outputs": [
    {
     "data": {
      "text/html": [
       "<div>\n",
       "<style scoped>\n",
       "    .dataframe tbody tr th:only-of-type {\n",
       "        vertical-align: middle;\n",
       "    }\n",
       "\n",
       "    .dataframe tbody tr th {\n",
       "        vertical-align: top;\n",
       "    }\n",
       "\n",
       "    .dataframe thead th {\n",
       "        text-align: right;\n",
       "    }\n",
       "</style>\n",
       "<table border=\"1\" class=\"dataframe\">\n",
       "  <thead>\n",
       "    <tr style=\"text-align: right;\">\n",
       "      <th></th>\n",
       "      <th>id</th>\n",
       "      <th>full_name</th>\n",
       "      <th>abbreviation</th>\n",
       "      <th>nickname</th>\n",
       "      <th>city</th>\n",
       "      <th>state</th>\n",
       "      <th>year_founded</th>\n",
       "    </tr>\n",
       "  </thead>\n",
       "  <tbody>\n",
       "    <tr>\n",
       "      <th>11</th>\n",
       "      <td>1610612748</td>\n",
       "      <td>Miami Heat</td>\n",
       "      <td>MIA</td>\n",
       "      <td>Heat</td>\n",
       "      <td>Miami</td>\n",
       "      <td>Florida</td>\n",
       "      <td>1988</td>\n",
       "    </tr>\n",
       "  </tbody>\n",
       "</table>\n",
       "</div>"
      ],
      "text/plain": [
       "            id   full_name abbreviation nickname   city    state  year_founded\n",
       "11  1610612748  Miami Heat          MIA     Heat  Miami  Florida          1988"
      ]
     },
     "execution_count": 28,
     "metadata": {},
     "output_type": "execute_result"
    }
   ],
   "source": [
    "MiamiHeat = nba_teams_2_df[nba_teams_2_df.full_name == 'Miami Heat']\n",
    "MiamiHeat "
   ]
  },
  {
   "cell_type": "code",
   "execution_count": 29,
   "metadata": {},
   "outputs": [
    {
     "data": {
      "text/plain": [
       "11    1610612748\n",
       "Name: id, dtype: int64"
      ]
     },
     "execution_count": 29,
     "metadata": {},
     "output_type": "execute_result"
    }
   ],
   "source": [
    "MiamiHeat['id'] "
   ]
  },
  {
   "cell_type": "code",
   "execution_count": 30,
   "metadata": {},
   "outputs": [
    {
     "data": {
      "text/html": [
       "<div>\n",
       "<style scoped>\n",
       "    .dataframe tbody tr th:only-of-type {\n",
       "        vertical-align: middle;\n",
       "    }\n",
       "\n",
       "    .dataframe tbody tr th {\n",
       "        vertical-align: top;\n",
       "    }\n",
       "\n",
       "    .dataframe thead th {\n",
       "        text-align: right;\n",
       "    }\n",
       "</style>\n",
       "<table border=\"1\" class=\"dataframe\">\n",
       "  <thead>\n",
       "    <tr style=\"text-align: right;\">\n",
       "      <th></th>\n",
       "      <th>id</th>\n",
       "      <th>full_name</th>\n",
       "      <th>abbreviation</th>\n",
       "      <th>nickname</th>\n",
       "      <th>city</th>\n",
       "      <th>state</th>\n",
       "      <th>year_founded</th>\n",
       "    </tr>\n",
       "  </thead>\n",
       "  <tbody>\n",
       "    <tr>\n",
       "      <th>17</th>\n",
       "      <td>1610612754</td>\n",
       "      <td>Indiana Pacers</td>\n",
       "      <td>IND</td>\n",
       "      <td>Pacers</td>\n",
       "      <td>Indiana</td>\n",
       "      <td>Indiana</td>\n",
       "      <td>1976</td>\n",
       "    </tr>\n",
       "  </tbody>\n",
       "</table>\n",
       "</div>"
      ],
      "text/plain": [
       "            id       full_name abbreviation nickname     city    state  \\\n",
       "17  1610612754  Indiana Pacers          IND   Pacers  Indiana  Indiana   \n",
       "\n",
       "    year_founded  \n",
       "17          1976  "
      ]
     },
     "execution_count": 30,
     "metadata": {},
     "output_type": "execute_result"
    }
   ],
   "source": [
    "IndianaPacers = nba_teams_2_df[nba_teams_2_df.full_name == 'Indiana Pacers']\n",
    "IndianaPacers"
   ]
  },
  {
   "cell_type": "code",
   "execution_count": 31,
   "metadata": {},
   "outputs": [
    {
     "data": {
      "text/html": [
       "<div>\n",
       "<style scoped>\n",
       "    .dataframe tbody tr th:only-of-type {\n",
       "        vertical-align: middle;\n",
       "    }\n",
       "\n",
       "    .dataframe tbody tr th {\n",
       "        vertical-align: top;\n",
       "    }\n",
       "\n",
       "    .dataframe thead th {\n",
       "        text-align: right;\n",
       "    }\n",
       "</style>\n",
       "<table border=\"1\" class=\"dataframe\">\n",
       "  <thead>\n",
       "    <tr style=\"text-align: right;\">\n",
       "      <th></th>\n",
       "      <th>id</th>\n",
       "      <th>full_name</th>\n",
       "      <th>abbreviation</th>\n",
       "      <th>nickname</th>\n",
       "      <th>city</th>\n",
       "      <th>state</th>\n",
       "      <th>year_founded</th>\n",
       "    </tr>\n",
       "  </thead>\n",
       "  <tbody>\n",
       "    <tr>\n",
       "      <th>10</th>\n",
       "      <td>1610612747</td>\n",
       "      <td>Los Angeles Lakers</td>\n",
       "      <td>LAL</td>\n",
       "      <td>Lakers</td>\n",
       "      <td>Los Angeles</td>\n",
       "      <td>California</td>\n",
       "      <td>1948</td>\n",
       "    </tr>\n",
       "  </tbody>\n",
       "</table>\n",
       "</div>"
      ],
      "text/plain": [
       "            id           full_name abbreviation nickname         city  \\\n",
       "10  1610612747  Los Angeles Lakers          LAL   Lakers  Los Angeles   \n",
       "\n",
       "         state  year_founded  \n",
       "10  California          1948  "
      ]
     },
     "execution_count": 31,
     "metadata": {},
     "output_type": "execute_result"
    }
   ],
   "source": [
    "LosAngelesLakers = nba_teams_2_df[nba_teams_2_df.full_name == 'Los Angeles Lakers']\n",
    "LosAngelesLakers"
   ]
  },
  {
   "cell_type": "code",
   "execution_count": 32,
   "metadata": {},
   "outputs": [
    {
     "data": {
      "text/html": [
       "<div>\n",
       "<style scoped>\n",
       "    .dataframe tbody tr th:only-of-type {\n",
       "        vertical-align: middle;\n",
       "    }\n",
       "\n",
       "    .dataframe tbody tr th {\n",
       "        vertical-align: top;\n",
       "    }\n",
       "\n",
       "    .dataframe thead th {\n",
       "        text-align: right;\n",
       "    }\n",
       "</style>\n",
       "<table border=\"1\" class=\"dataframe\">\n",
       "  <thead>\n",
       "    <tr style=\"text-align: right;\">\n",
       "      <th></th>\n",
       "      <th>id</th>\n",
       "      <th>full_name</th>\n",
       "      <th>abbreviation</th>\n",
       "      <th>nickname</th>\n",
       "      <th>city</th>\n",
       "      <th>state</th>\n",
       "      <th>year_founded</th>\n",
       "    </tr>\n",
       "  </thead>\n",
       "  <tbody>\n",
       "    <tr>\n",
       "      <th>7</th>\n",
       "      <td>1610612744</td>\n",
       "      <td>Golden State Warriors</td>\n",
       "      <td>GSW</td>\n",
       "      <td>Warriors</td>\n",
       "      <td>Golden State</td>\n",
       "      <td>California</td>\n",
       "      <td>1946</td>\n",
       "    </tr>\n",
       "  </tbody>\n",
       "</table>\n",
       "</div>"
      ],
      "text/plain": [
       "           id              full_name abbreviation  nickname          city  \\\n",
       "7  1610612744  Golden State Warriors          GSW  Warriors  Golden State   \n",
       "\n",
       "        state  year_founded  \n",
       "7  California          1946  "
      ]
     },
     "execution_count": 32,
     "metadata": {},
     "output_type": "execute_result"
    }
   ],
   "source": [
    "GoldenStateWarriors = nba_teams_2_df[nba_teams_2_df.full_name == 'Golden State Warriors']\n",
    "GoldenStateWarriors"
   ]
  },
  {
   "cell_type": "code",
   "execution_count": 33,
   "metadata": {},
   "outputs": [
    {
     "data": {
      "text/html": [
       "<div>\n",
       "<style scoped>\n",
       "    .dataframe tbody tr th:only-of-type {\n",
       "        vertical-align: middle;\n",
       "    }\n",
       "\n",
       "    .dataframe tbody tr th {\n",
       "        vertical-align: top;\n",
       "    }\n",
       "\n",
       "    .dataframe thead th {\n",
       "        text-align: right;\n",
       "    }\n",
       "</style>\n",
       "<table border=\"1\" class=\"dataframe\">\n",
       "  <thead>\n",
       "    <tr style=\"text-align: right;\">\n",
       "      <th></th>\n",
       "      <th>id</th>\n",
       "      <th>full_name</th>\n",
       "      <th>abbreviation</th>\n",
       "      <th>nickname</th>\n",
       "      <th>city</th>\n",
       "      <th>state</th>\n",
       "      <th>year_founded</th>\n",
       "    </tr>\n",
       "  </thead>\n",
       "  <tbody>\n",
       "    <tr>\n",
       "      <th>26</th>\n",
       "      <td>1610612763</td>\n",
       "      <td>Memphis Grizzlies</td>\n",
       "      <td>MEM</td>\n",
       "      <td>Grizzlies</td>\n",
       "      <td>Memphis</td>\n",
       "      <td>Tennessee</td>\n",
       "      <td>1995</td>\n",
       "    </tr>\n",
       "  </tbody>\n",
       "</table>\n",
       "</div>"
      ],
      "text/plain": [
       "            id          full_name abbreviation   nickname     city      state  \\\n",
       "26  1610612763  Memphis Grizzlies          MEM  Grizzlies  Memphis  Tennessee   \n",
       "\n",
       "    year_founded  \n",
       "26          1995  "
      ]
     },
     "execution_count": 33,
     "metadata": {},
     "output_type": "execute_result"
    }
   ],
   "source": [
    "MemphisGrizzlies = nba_teams_2_df[nba_teams_2_df.full_name == 'Memphis Grizzlies']\n",
    "MemphisGrizzlies"
   ]
  },
  {
   "cell_type": "markdown",
   "metadata": {},
   "source": [
    "### Importing the NBA data: players"
   ]
  },
  {
   "cell_type": "code",
   "execution_count": 34,
   "metadata": {},
   "outputs": [
    {
     "data": {
      "text/plain": [
       "['__builtins__',\n",
       " '__cached__',\n",
       " '__doc__',\n",
       " '__file__',\n",
       " '__loader__',\n",
       " '__name__',\n",
       " '__package__',\n",
       " '__spec__',\n",
       " '_find_players',\n",
       " '_get_player_dict',\n",
       " 'find_player_by_id',\n",
       " 'find_players_by_first_name',\n",
       " 'find_players_by_full_name',\n",
       " 'find_players_by_last_name',\n",
       " 'get_active_players',\n",
       " 'get_inactive_players',\n",
       " 'get_players',\n",
       " 'player_index_first_name',\n",
       " 'player_index_full_name',\n",
       " 'player_index_id',\n",
       " 'player_index_is_active',\n",
       " 'player_index_last_name',\n",
       " 'players',\n",
       " 're']"
      ]
     },
     "execution_count": 34,
     "metadata": {},
     "output_type": "execute_result"
    }
   ],
   "source": [
    "from nba_api.stats.static import players\n",
    "dir(players)"
   ]
  },
  {
   "cell_type": "markdown",
   "metadata": {},
   "source": [
    "<b>Exploring the functions provided by the API.</b>\n",
    "\n",
    "<p>\n",
    "The func get_players gives a nice list of players.\n",
    "</p> \n"
   ]
  },
  {
   "cell_type": "code",
   "execution_count": 35,
   "metadata": {},
   "outputs": [
    {
     "name": "stdout",
     "output_type": "stream",
     "text": [
      "<class 'list'>\n",
      "4501\n",
      "[{'id': 76001, 'full_name': 'Alaa Abdelnaby', 'first_name': 'Alaa', 'last_name': 'Abdelnaby', 'is_active': False}, {'id': 76002, 'full_name': 'Zaid Abdul-Aziz', 'first_name': 'Zaid', 'last_name': 'Abdul-Aziz', 'is_active': False}, {'id': 76003, 'full_name': 'Kareem Abdul-Jabbar', 'first_name': 'Kareem', 'last_name': 'Abdul-Jabbar', 'is_active': False}]\n"
     ]
    }
   ],
   "source": [
    "players_l = players.get_players()\n",
    "\n",
    "print(type(players_l))\n",
    "print(len(players_l))\n",
    "print(players_l[:3])"
   ]
  },
  {
   "cell_type": "code",
   "execution_count": 36,
   "metadata": {},
   "outputs": [
    {
     "data": {
      "text/html": [
       "<div>\n",
       "<style scoped>\n",
       "    .dataframe tbody tr th:only-of-type {\n",
       "        vertical-align: middle;\n",
       "    }\n",
       "\n",
       "    .dataframe tbody tr th {\n",
       "        vertical-align: top;\n",
       "    }\n",
       "\n",
       "    .dataframe thead th {\n",
       "        text-align: right;\n",
       "    }\n",
       "</style>\n",
       "<table border=\"1\" class=\"dataframe\">\n",
       "  <thead>\n",
       "    <tr style=\"text-align: right;\">\n",
       "      <th></th>\n",
       "      <th>id</th>\n",
       "      <th>full_name</th>\n",
       "      <th>first_name</th>\n",
       "      <th>last_name</th>\n",
       "      <th>is_active</th>\n",
       "    </tr>\n",
       "  </thead>\n",
       "  <tbody>\n",
       "    <tr>\n",
       "      <th>0</th>\n",
       "      <td>76001</td>\n",
       "      <td>Alaa Abdelnaby</td>\n",
       "      <td>Alaa</td>\n",
       "      <td>Abdelnaby</td>\n",
       "      <td>False</td>\n",
       "    </tr>\n",
       "    <tr>\n",
       "      <th>1</th>\n",
       "      <td>76002</td>\n",
       "      <td>Zaid Abdul-Aziz</td>\n",
       "      <td>Zaid</td>\n",
       "      <td>Abdul-Aziz</td>\n",
       "      <td>False</td>\n",
       "    </tr>\n",
       "    <tr>\n",
       "      <th>2</th>\n",
       "      <td>76003</td>\n",
       "      <td>Kareem Abdul-Jabbar</td>\n",
       "      <td>Kareem</td>\n",
       "      <td>Abdul-Jabbar</td>\n",
       "      <td>False</td>\n",
       "    </tr>\n",
       "    <tr>\n",
       "      <th>3</th>\n",
       "      <td>51</td>\n",
       "      <td>Mahmoud Abdul-Rauf</td>\n",
       "      <td>Mahmoud</td>\n",
       "      <td>Abdul-Rauf</td>\n",
       "      <td>False</td>\n",
       "    </tr>\n",
       "    <tr>\n",
       "      <th>4</th>\n",
       "      <td>1505</td>\n",
       "      <td>Tariq Abdul-Wahad</td>\n",
       "      <td>Tariq</td>\n",
       "      <td>Abdul-Wahad</td>\n",
       "      <td>False</td>\n",
       "    </tr>\n",
       "  </tbody>\n",
       "</table>\n",
       "</div>"
      ],
      "text/plain": [
       "      id            full_name first_name     last_name  is_active\n",
       "0  76001       Alaa Abdelnaby       Alaa     Abdelnaby      False\n",
       "1  76002      Zaid Abdul-Aziz       Zaid    Abdul-Aziz      False\n",
       "2  76003  Kareem Abdul-Jabbar     Kareem  Abdul-Jabbar      False\n",
       "3     51   Mahmoud Abdul-Rauf    Mahmoud    Abdul-Rauf      False\n",
       "4   1505    Tariq Abdul-Wahad      Tariq   Abdul-Wahad      False"
      ]
     },
     "execution_count": 36,
     "metadata": {},
     "output_type": "execute_result"
    }
   ],
   "source": [
    "players_l_df = pd.DataFrame(players_l)\n",
    "players_l_df.head()\n"
   ]
  },
  {
   "cell_type": "code",
   "execution_count": 37,
   "metadata": {},
   "outputs": [
    {
     "data": {
      "text/html": [
       "<div>\n",
       "<style scoped>\n",
       "    .dataframe tbody tr th:only-of-type {\n",
       "        vertical-align: middle;\n",
       "    }\n",
       "\n",
       "    .dataframe tbody tr th {\n",
       "        vertical-align: top;\n",
       "    }\n",
       "\n",
       "    .dataframe thead th {\n",
       "        text-align: right;\n",
       "    }\n",
       "</style>\n",
       "<table border=\"1\" class=\"dataframe\">\n",
       "  <thead>\n",
       "    <tr style=\"text-align: right;\">\n",
       "      <th></th>\n",
       "      <th>id</th>\n",
       "      <th>full_name</th>\n",
       "      <th>first_name</th>\n",
       "      <th>last_name</th>\n",
       "      <th>is_active</th>\n",
       "    </tr>\n",
       "  </thead>\n",
       "  <tbody>\n",
       "    <tr>\n",
       "      <th>4496</th>\n",
       "      <td>1627790</td>\n",
       "      <td>Ante Zizic</td>\n",
       "      <td>Ante</td>\n",
       "      <td>Zizic</td>\n",
       "      <td>True</td>\n",
       "    </tr>\n",
       "    <tr>\n",
       "      <th>4497</th>\n",
       "      <td>78647</td>\n",
       "      <td>Jim Zoet</td>\n",
       "      <td>Jim</td>\n",
       "      <td>Zoet</td>\n",
       "      <td>False</td>\n",
       "    </tr>\n",
       "    <tr>\n",
       "      <th>4498</th>\n",
       "      <td>78648</td>\n",
       "      <td>Bill Zopf</td>\n",
       "      <td>Bill</td>\n",
       "      <td>Zopf</td>\n",
       "      <td>False</td>\n",
       "    </tr>\n",
       "    <tr>\n",
       "      <th>4499</th>\n",
       "      <td>1627826</td>\n",
       "      <td>Ivica Zubac</td>\n",
       "      <td>Ivica</td>\n",
       "      <td>Zubac</td>\n",
       "      <td>True</td>\n",
       "    </tr>\n",
       "    <tr>\n",
       "      <th>4500</th>\n",
       "      <td>78650</td>\n",
       "      <td>Matt Zunic</td>\n",
       "      <td>Matt</td>\n",
       "      <td>Zunic</td>\n",
       "      <td>False</td>\n",
       "    </tr>\n",
       "  </tbody>\n",
       "</table>\n",
       "</div>"
      ],
      "text/plain": [
       "           id    full_name first_name last_name  is_active\n",
       "4496  1627790   Ante Zizic       Ante     Zizic       True\n",
       "4497    78647     Jim Zoet        Jim      Zoet      False\n",
       "4498    78648    Bill Zopf       Bill      Zopf      False\n",
       "4499  1627826  Ivica Zubac      Ivica     Zubac       True\n",
       "4500    78650   Matt Zunic       Matt     Zunic      False"
      ]
     },
     "execution_count": 37,
     "metadata": {},
     "output_type": "execute_result"
    }
   ],
   "source": [
    "players_l_df.tail()"
   ]
  },
  {
   "cell_type": "code",
   "execution_count": 38,
   "metadata": {},
   "outputs": [
    {
     "data": {
      "text/plain": [
       "numpy.bool_"
      ]
     },
     "execution_count": 38,
     "metadata": {},
     "output_type": "execute_result"
    }
   ],
   "source": [
    "type(players_l_df.is_active[0])\n",
    "# players_l_df['is_active'].astype('float').plot(kind='bar')"
   ]
  },
  {
   "cell_type": "code",
   "execution_count": 39,
   "metadata": {},
   "outputs": [
    {
     "name": "stdout",
     "output_type": "stream",
     "text": [
      "is_active\n",
      "False    3982\n",
      "True      519\n",
      "Name: id, dtype: int64\n",
      "<class 'pandas.core.series.Series'>\n"
     ]
    }
   ],
   "source": [
    "active = players_l_df.groupby('is_active')['id'].count()\n",
    "\n",
    "print(active)\n",
    "print(type(active))"
   ]
  },
  {
   "cell_type": "code",
   "execution_count": 40,
   "metadata": {},
   "outputs": [
    {
     "data": {
      "image/png": "[encoded data removed]",
      "text/plain": [
       "<Figure size 432x288 with 1 Axes>"
      ]
     },
     "metadata": {
      "needs_background": "light"
     },
     "output_type": "display_data"
    }
   ],
   "source": [
    "active.plot(kind='bar', edgecolor='black', linewidth=4,\n",
    "            title='Count of active & inactive players', color=['r', 'g', 'b', 'y'])\n",
    "plt.grid(color='magenta', linestyle='--', linewidth=0.4)\n",
    "plt.show()"
   ]
  },
  {
   "cell_type": "markdown",
   "metadata": {},
   "source": [
    "There are even functions to get the active players."
   ]
  },
  {
   "cell_type": "code",
   "execution_count": 41,
   "metadata": {},
   "outputs": [
    {
     "data": {
      "text/html": [
       "<div>\n",
       "<style scoped>\n",
       "    .dataframe tbody tr th:only-of-type {\n",
       "        vertical-align: middle;\n",
       "    }\n",
       "\n",
       "    .dataframe tbody tr th {\n",
       "        vertical-align: top;\n",
       "    }\n",
       "\n",
       "    .dataframe thead th {\n",
       "        text-align: right;\n",
       "    }\n",
       "</style>\n",
       "<table border=\"1\" class=\"dataframe\">\n",
       "  <thead>\n",
       "    <tr style=\"text-align: right;\">\n",
       "      <th></th>\n",
       "      <th>id</th>\n",
       "      <th>full_name</th>\n",
       "      <th>first_name</th>\n",
       "      <th>last_name</th>\n",
       "      <th>is_active</th>\n",
       "    </tr>\n",
       "  </thead>\n",
       "  <tbody>\n",
       "    <tr>\n",
       "      <th>0</th>\n",
       "      <td>203500</td>\n",
       "      <td>Steven Adams</td>\n",
       "      <td>Steven</td>\n",
       "      <td>Adams</td>\n",
       "      <td>True</td>\n",
       "    </tr>\n",
       "    <tr>\n",
       "      <th>1</th>\n",
       "      <td>1628389</td>\n",
       "      <td>Bam Adebayo</td>\n",
       "      <td>Bam</td>\n",
       "      <td>Adebayo</td>\n",
       "      <td>True</td>\n",
       "    </tr>\n",
       "    <tr>\n",
       "      <th>2</th>\n",
       "      <td>200746</td>\n",
       "      <td>LaMarcus Aldridge</td>\n",
       "      <td>LaMarcus</td>\n",
       "      <td>Aldridge</td>\n",
       "      <td>True</td>\n",
       "    </tr>\n",
       "    <tr>\n",
       "      <th>3</th>\n",
       "      <td>1629734</td>\n",
       "      <td>Kyle Alexander</td>\n",
       "      <td>Kyle</td>\n",
       "      <td>Alexander</td>\n",
       "      <td>True</td>\n",
       "    </tr>\n",
       "    <tr>\n",
       "      <th>4</th>\n",
       "      <td>1629638</td>\n",
       "      <td>Nickeil Alexander-Walker</td>\n",
       "      <td>Nickeil</td>\n",
       "      <td>Alexander-Walker</td>\n",
       "      <td>True</td>\n",
       "    </tr>\n",
       "  </tbody>\n",
       "</table>\n",
       "</div>"
      ],
      "text/plain": [
       "        id                 full_name first_name         last_name  is_active\n",
       "0   203500              Steven Adams     Steven             Adams       True\n",
       "1  1628389               Bam Adebayo        Bam           Adebayo       True\n",
       "2   200746         LaMarcus Aldridge   LaMarcus          Aldridge       True\n",
       "3  1629734            Kyle Alexander       Kyle         Alexander       True\n",
       "4  1629638  Nickeil Alexander-Walker    Nickeil  Alexander-Walker       True"
      ]
     },
     "execution_count": 41,
     "metadata": {},
     "output_type": "execute_result"
    }
   ],
   "source": [
    "players_active = pd.DataFrame(players.get_active_players())\n",
    "players_active.head()"
   ]
  },
  {
   "cell_type": "markdown",
   "metadata": {},
   "source": [
    "This gives the column indexes. "
   ]
  },
  {
   "cell_type": "code",
   "execution_count": 42,
   "metadata": {},
   "outputs": [
    {
     "data": {
      "text/plain": [
       "2"
      ]
     },
     "execution_count": 42,
     "metadata": {},
     "output_type": "execute_result"
    }
   ],
   "source": [
    "players.player_index_first_name"
   ]
  },
  {
   "cell_type": "code",
   "execution_count": 43,
   "metadata": {},
   "outputs": [
    {
     "data": {
      "text/plain": [
       "0"
      ]
     },
     "execution_count": 43,
     "metadata": {},
     "output_type": "execute_result"
    }
   ],
   "source": [
    "players.player_index_id"
   ]
  },
  {
   "cell_type": "markdown",
   "metadata": {},
   "source": [
    "### Importing the NBA data from endpoints: LeagueLeaders"
   ]
  },
  {
   "cell_type": "code",
   "execution_count": 44,
   "metadata": {},
   "outputs": [],
   "source": [
    "from nba_api.stats.endpoints import LeagueLeaders"
   ]
  },
  {
   "cell_type": "code",
   "execution_count": 45,
   "metadata": {},
   "outputs": [
    {
     "data": {
      "text/plain": [
       "['DataSet',\n",
       " '__class__',\n",
       " '__delattr__',\n",
       " '__dict__',\n",
       " '__dir__',\n",
       " '__doc__',\n",
       " '__eq__',\n",
       " '__format__',\n",
       " '__ge__',\n",
       " '__getattribute__',\n",
       " '__gt__',\n",
       " '__hash__',\n",
       " '__init__',\n",
       " '__init_subclass__',\n",
       " '__le__',\n",
       " '__lt__',\n",
       " '__module__',\n",
       " '__ne__',\n",
       " '__new__',\n",
       " '__reduce__',\n",
       " '__reduce_ex__',\n",
       " '__repr__',\n",
       " '__setattr__',\n",
       " '__sizeof__',\n",
       " '__str__',\n",
       " '__subclasshook__',\n",
       " '__weakref__',\n",
       " 'data_sets',\n",
       " 'endpoint',\n",
       " 'expected_data',\n",
       " 'get_available_data',\n",
       " 'get_data_frames',\n",
       " 'get_dict',\n",
       " 'get_json',\n",
       " 'get_normalized_dict',\n",
       " 'get_normalized_json',\n",
       " 'get_request',\n",
       " 'get_request_url',\n",
       " 'get_response',\n",
       " 'headers',\n",
       " 'load_response',\n",
       " 'nba_response',\n",
       " 'player_stats',\n",
       " 'team_stats']"
      ]
     },
     "execution_count": 45,
     "metadata": {},
     "output_type": "execute_result"
    }
   ],
   "source": [
    "dir(LeagueLeaders)"
   ]
  },
  {
   "cell_type": "code",
   "execution_count": 46,
   "metadata": {},
   "outputs": [
    {
     "data": {
      "text/plain": [
       "['DataSet',\n",
       " '__class__',\n",
       " '__delattr__',\n",
       " '__dict__',\n",
       " '__dir__',\n",
       " '__doc__',\n",
       " '__eq__',\n",
       " '__format__',\n",
       " '__ge__',\n",
       " '__getattribute__',\n",
       " '__gt__',\n",
       " '__hash__',\n",
       " '__init__',\n",
       " '__init_subclass__',\n",
       " '__le__',\n",
       " '__lt__',\n",
       " '__module__',\n",
       " '__ne__',\n",
       " '__new__',\n",
       " '__reduce__',\n",
       " '__reduce_ex__',\n",
       " '__repr__',\n",
       " '__setattr__',\n",
       " '__sizeof__',\n",
       " '__str__',\n",
       " '__subclasshook__',\n",
       " '__weakref__',\n",
       " 'data_sets',\n",
       " 'endpoint',\n",
       " 'expected_data',\n",
       " 'get_available_data',\n",
       " 'get_data_frames',\n",
       " 'get_dict',\n",
       " 'get_json',\n",
       " 'get_normalized_dict',\n",
       " 'get_normalized_json',\n",
       " 'get_request',\n",
       " 'get_request_url',\n",
       " 'get_response',\n",
       " 'headers',\n",
       " 'load_response',\n",
       " 'nba_response',\n",
       " 'player_stats',\n",
       " 'team_stats']"
      ]
     },
     "execution_count": 46,
     "metadata": {},
     "output_type": "execute_result"
    }
   ],
   "source": [
    "dir(endpoints.leagueleaders.LeagueLeaders)"
   ]
  },
  {
   "cell_type": "code",
   "execution_count": 47,
   "metadata": {},
   "outputs": [],
   "source": [
    "# Here we access the leagueleaders module through endpoints & assign the class to \"data\"\n",
    "ll = endpoints.leagueleaders.LeagueLeaders() \n",
    "\n",
    "# Our \"data\" variable now has built in functions such as creating a dataframe for our data\n",
    "ll_df = ll.league_leaders.get_data_frame()"
   ]
  },
  {
   "cell_type": "code",
   "execution_count": 48,
   "metadata": {},
   "outputs": [
    {
     "name": "stdout",
     "output_type": "stream",
     "text": [
      "<class 'pandas.core.frame.DataFrame'>\n",
      "RangeIndex: 506 entries, 0 to 505\n",
      "Data columns (total 27 columns):\n",
      " #   Column     Non-Null Count  Dtype  \n",
      "---  ------     --------------  -----  \n",
      " 0   PLAYER_ID  506 non-null    int64  \n",
      " 1   RANK       506 non-null    int64  \n",
      " 2   PLAYER     506 non-null    object \n",
      " 3   TEAM       506 non-null    object \n",
      " 4   GP         506 non-null    int64  \n",
      " 5   MIN        506 non-null    int64  \n",
      " 6   FGM        506 non-null    int64  \n",
      " 7   FGA        506 non-null    int64  \n",
      " 8   FG_PCT     506 non-null    float64\n",
      " 9   FG3M       506 non-null    int64  \n",
      " 10  FG3A       506 non-null    int64  \n",
      " 11  FG3_PCT    506 non-null    float64\n",
      " 12  FTM        506 non-null    int64  \n",
      " 13  FTA        506 non-null    int64  \n",
      " 14  FT_PCT     506 non-null    float64\n",
      " 15  OREB       506 non-null    int64  \n",
      " 16  DREB       506 non-null    int64  \n",
      " 17  REB        506 non-null    int64  \n",
      " 18  AST        506 non-null    int64  \n",
      " 19  STL        506 non-null    int64  \n",
      " 20  BLK        506 non-null    int64  \n",
      " 21  TOV        506 non-null    int64  \n",
      " 22  PF         506 non-null    int64  \n",
      " 23  PTS        506 non-null    int64  \n",
      " 24  EFF        506 non-null    int64  \n",
      " 25  AST_TOV    506 non-null    float64\n",
      " 26  STL_TOV    506 non-null    float64\n",
      "dtypes: float64(5), int64(20), object(2)\n",
      "memory usage: 106.9+ KB\n"
     ]
    }
   ],
   "source": [
    "ll_df.info()"
   ]
  },
  {
   "cell_type": "code",
   "execution_count": 49,
   "metadata": {},
   "outputs": [
    {
     "name": "stdout",
     "output_type": "stream",
     "text": [
      "   PLAYER_ID  RANK                 PLAYER TEAM  GP   MIN  FGM  FGA  FG_PCT  \\\n",
      "0     203081     1         Damian Lillard  POR  47  1687  429  958   0.448   \n",
      "1     203507     2  Giannis Antetokounmpo  MIL  45  1529  468  829   0.565   \n",
      "2     203078     3           Bradley Beal  WAS  41  1454  449  926   0.485   \n",
      "3     203999     4           Nikola Jokic  DEN  48  1711  503  887   0.567   \n",
      "4     203897     5            Zach LaVine  CHI  46  1608  452  884   0.511   \n",
      "\n",
      "   FG3M  ...  REB  AST  STL  BLK  TOV   PF   PTS   EFF  AST_TOV  STL_TOV  \n",
      "0   196  ...  200  363   45   12  150   74  1391  1309     2.42     0.30  \n",
      "1    51  ...  512  277   51   60  169  129  1294  1524     1.64     0.30  \n",
      "2    90  ...  206  196   49   15  137  102  1284  1104     1.43     0.36  \n",
      "3    73  ...  528  405   73   31  147  129  1274  1750     2.76     0.50  \n",
      "4   156  ...  229  218   39   20  171  112  1261  1132     1.28     0.23  \n",
      "\n",
      "[5 rows x 27 columns]\n"
     ]
    }
   ],
   "source": [
    "print(ll_df.head())"
   ]
  },
  {
   "cell_type": "code",
   "execution_count": 50,
   "metadata": {},
   "outputs": [
    {
     "name": "stdout",
     "output_type": "stream",
     "text": [
      "     PLAYER_ID  RANK            PLAYER TEAM  GP  MIN  FGM  FGA  FG_PCT  FG3M  \\\n",
      "501    1628394   503  Anzejs Pasecniks  WAS   1    6    0    1     0.0     0   \n",
      "502    1630204   503     Ashton Hagans  MIN   2    4    0    0     0.0     0   \n",
      "503     204222   503  Greg Whittington  DEN   4   12    0    3     0.0     0   \n",
      "504     203943   503       Noah Vonleh  BKN   4   11    0    3     0.0     0   \n",
      "505    1630266   503       Will Magnay  NOP   1    3    0    1     0.0     0   \n",
      "\n",
      "     ...  REB  AST  STL  BLK  TOV  PF  PTS  EFF  AST_TOV  STL_TOV  \n",
      "501  ...    1    1    0    0    5   2    0   -4      0.2      0.0  \n",
      "502  ...    0    0    0    0    1   0    0   -1      0.0      0.0  \n",
      "503  ...    0    0    0    0    0   0    0   -3      0.0      0.0  \n",
      "504  ...    1    1    0    0    2   2    0   -3      0.5      0.0  \n",
      "505  ...    0    0    0    0    1   1    0   -2      0.0      0.0  \n",
      "\n",
      "[5 rows x 27 columns]\n"
     ]
    }
   ],
   "source": [
    "print(ll_df.tail())"
   ]
  },
  {
   "cell_type": "code",
   "execution_count": 51,
   "metadata": {},
   "outputs": [
    {
     "data": {
      "text/plain": [
       "TEAM\n",
       "ATL    286.687500\n",
       "BKN    227.250000\n",
       "BOS    270.312500\n",
       "CHA    274.125000\n",
       "CHI    296.941176\n",
       "Name: FGA, dtype: float64"
      ]
     },
     "execution_count": 51,
     "metadata": {},
     "output_type": "execute_result"
    }
   ],
   "source": [
    "ll_df_fga = ll_df.groupby('TEAM')['FGA'].mean()\n",
    "\n",
    "ll_df_fga.head()"
   ]
  },
  {
   "cell_type": "code",
   "execution_count": 52,
   "metadata": {},
   "outputs": [
    {
     "name": "stdout",
     "output_type": "stream",
     "text": [
      "<class 'pandas.core.series.Series'>\n",
      "['ATL', 'BKN', 'BOS', 'CHA', 'CHI', 'CLE', 'DAL', 'DEN', 'DET', 'GSW', 'HOU', 'IND', 'LAC', 'LAL', 'MEM', 'MIA', 'MIL', 'MIN', 'NOP', 'NYK', 'OKC', 'ORL', 'PHI', 'PHX', 'POR', 'SAC', 'SAS', 'TOR', 'UTA', 'WAS']\n"
     ]
    }
   ],
   "source": [
    "print(type(ll_df_fga))\n",
    "print(list(ll_df_fga.index))"
   ]
  },
  {
   "cell_type": "code",
   "execution_count": 53,
   "metadata": {},
   "outputs": [
    {
     "data": {
      "image/png": "[encoded data removed]",
      "text/plain": [
       "<Figure size 864x288 with 1 Axes>"
      ]
     },
     "metadata": {
      "needs_background": "light"
     },
     "output_type": "display_data"
    }
   ],
   "source": [
    "ll_df_fga.sort_values().plot(kind='bar', figsize=(12,4), linewidth=4,\n",
    "                             title=\"Mean FGA by team\", \n",
    "                             color=['g', 'magenta', 'gold'], edgecolor='black')\n",
    "plt.grid()\n",
    "plt.show()"
   ]
  },
  {
   "cell_type": "code",
   "execution_count": 54,
   "metadata": {},
   "outputs": [],
   "source": [
    "ll_df.RANK = ll_df.RANK.astype('float')"
   ]
  },
  {
   "cell_type": "code",
   "execution_count": 55,
   "metadata": {},
   "outputs": [
    {
     "name": "stdout",
     "output_type": "stream",
     "text": [
      "358\n",
      "[470. 472. 475. 477. 481. 485. 491. 495. 502.]\n"
     ]
    }
   ],
   "source": [
    "print(len(ll_df.RANK.unique()))\n",
    "print(ll_df.RANK.unique()[-10:-1])"
   ]
  },
  {
   "cell_type": "code",
   "execution_count": 56,
   "metadata": {},
   "outputs": [
    {
     "name": "stdout",
     "output_type": "stream",
     "text": [
      "<class 'pandas.core.series.Series'>\n",
      "RANK    float64\n",
      "dtype: object\n"
     ]
    }
   ],
   "source": [
    "print(type(ll_df.RANK))\n",
    "print(pd.DataFrame(ll_df.RANK).dtypes)"
   ]
  },
  {
   "cell_type": "code",
   "execution_count": 57,
   "metadata": {},
   "outputs": [
    {
     "name": "stdout",
     "output_type": "stream",
     "text": [
      "(506, 27)\n",
      "27\n"
     ]
    }
   ],
   "source": [
    "print(ll_df.shape)\n",
    "print(len(ll_df.columns))"
   ]
  },
  {
   "cell_type": "code",
   "execution_count": 58,
   "metadata": {},
   "outputs": [
    {
     "data": {
      "text/plain": [
       "1"
      ]
     },
     "execution_count": 58,
     "metadata": {},
     "output_type": "execute_result"
    }
   ],
   "source": [
    "ll_df.columns.get_loc('RANK')"
   ]
  },
  {
   "cell_type": "code",
   "execution_count": 59,
   "metadata": {},
   "outputs": [
    {
     "name": "stdout",
     "output_type": "stream",
     "text": [
      "{'PLAYER_ID': 0, 'RANK': 1, 'PLAYER': 2, 'TEAM': 3, 'GP': 4, 'MIN': 5, 'FGM': 6, 'FGA': 7, 'FG_PCT': 8, 'FG3M': 9, 'FG3A': 10, 'FG3_PCT': 11, 'FTM': 12, 'FTA': 13, 'FT_PCT': 14, 'OREB': 15, 'DREB': 16, 'REB': 17, 'AST': 18, 'STL': 19, 'BLK': 20, 'TOV': 21, 'PF': 22, 'PTS': 23, 'EFF': 24, 'AST_TOV': 25, 'STL_TOV': 26}\n"
     ]
    }
   ],
   "source": [
    "ll_df_columns_index = {}\n",
    "\n",
    "for c in ll_df.columns:\n",
    "    i = ll_df.columns.get_loc(c)\n",
    "    ll_df_columns_index[c] = i\n",
    "\n",
    "print(ll_df_columns_index)"
   ]
  },
  {
   "cell_type": "code",
   "execution_count": 60,
   "metadata": {},
   "outputs": [
    {
     "name": "stdout",
     "output_type": "stream",
     "text": [
      "22\n"
     ]
    }
   ],
   "source": [
    "print(len(ll_df.iloc[:, 4:26].columns))"
   ]
  },
  {
   "cell_type": "code",
   "execution_count": 61,
   "metadata": {},
   "outputs": [
    {
     "data": {
      "text/html": [
       "<div>\n",
       "<style scoped>\n",
       "    .dataframe tbody tr th:only-of-type {\n",
       "        vertical-align: middle;\n",
       "    }\n",
       "\n",
       "    .dataframe tbody tr th {\n",
       "        vertical-align: top;\n",
       "    }\n",
       "\n",
       "    .dataframe thead th {\n",
       "        text-align: right;\n",
       "    }\n",
       "</style>\n",
       "<table border=\"1\" class=\"dataframe\">\n",
       "  <thead>\n",
       "    <tr style=\"text-align: right;\">\n",
       "      <th></th>\n",
       "      <th>PLAYER_ID</th>\n",
       "      <th>RANK</th>\n",
       "      <th>PLAYER</th>\n",
       "      <th>TEAM</th>\n",
       "      <th>GP</th>\n",
       "      <th>MIN</th>\n",
       "      <th>FGM</th>\n",
       "      <th>FGA</th>\n",
       "      <th>FG_PCT</th>\n",
       "      <th>FG3M</th>\n",
       "      <th>...</th>\n",
       "      <th>REB</th>\n",
       "      <th>AST</th>\n",
       "      <th>STL</th>\n",
       "      <th>BLK</th>\n",
       "      <th>TOV</th>\n",
       "      <th>PF</th>\n",
       "      <th>PTS</th>\n",
       "      <th>EFF</th>\n",
       "      <th>AST_TOV</th>\n",
       "      <th>STL_TOV</th>\n",
       "    </tr>\n",
       "  </thead>\n",
       "  <tbody>\n",
       "    <tr>\n",
       "      <th>min</th>\n",
       "      <td>2.544000e+03</td>\n",
       "      <td>1.000000</td>\n",
       "      <td>Aaron Gordon</td>\n",
       "      <td>ATL</td>\n",
       "      <td>1.000000</td>\n",
       "      <td>3.000000</td>\n",
       "      <td>0.000000</td>\n",
       "      <td>0.000000</td>\n",
       "      <td>0.000000</td>\n",
       "      <td>0.000000</td>\n",
       "      <td>...</td>\n",
       "      <td>0.000000</td>\n",
       "      <td>0.00000</td>\n",
       "      <td>0.000000</td>\n",
       "      <td>0.00000</td>\n",
       "      <td>0.000000</td>\n",
       "      <td>0.000000</td>\n",
       "      <td>0.000000</td>\n",
       "      <td>-4.000000</td>\n",
       "      <td>0.000000</td>\n",
       "      <td>0.000000</td>\n",
       "    </tr>\n",
       "    <tr>\n",
       "      <th>max</th>\n",
       "      <td>1.630271e+06</td>\n",
       "      <td>503.000000</td>\n",
       "      <td>Zion Williamson</td>\n",
       "      <td>WAS</td>\n",
       "      <td>50.000000</td>\n",
       "      <td>1810.000000</td>\n",
       "      <td>503.000000</td>\n",
       "      <td>969.000000</td>\n",
       "      <td>1.000000</td>\n",
       "      <td>198.000000</td>\n",
       "      <td>...</td>\n",
       "      <td>646.000000</td>\n",
       "      <td>454.00000</td>\n",
       "      <td>77.000000</td>\n",
       "      <td>156.00000</td>\n",
       "      <td>206.000000</td>\n",
       "      <td>169.000000</td>\n",
       "      <td>1391.000000</td>\n",
       "      <td>1750.000000</td>\n",
       "      <td>13.000000</td>\n",
       "      <td>6.000000</td>\n",
       "    </tr>\n",
       "    <tr>\n",
       "      <th>mean</th>\n",
       "      <td>1.141579e+06</td>\n",
       "      <td>253.077075</td>\n",
       "      <td>NaN</td>\n",
       "      <td>NaN</td>\n",
       "      <td>30.683794</td>\n",
       "      <td>696.667984</td>\n",
       "      <td>118.312253</td>\n",
       "      <td>254.666008</td>\n",
       "      <td>0.441164</td>\n",
       "      <td>36.752964</td>\n",
       "      <td>...</td>\n",
       "      <td>127.772727</td>\n",
       "      <td>71.01581</td>\n",
       "      <td>21.743083</td>\n",
       "      <td>14.13834</td>\n",
       "      <td>38.464427</td>\n",
       "      <td>56.132411</td>\n",
       "      <td>322.197628</td>\n",
       "      <td>368.067194</td>\n",
       "      <td>1.753063</td>\n",
       "      <td>0.666581</td>\n",
       "    </tr>\n",
       "    <tr>\n",
       "      <th>median</th>\n",
       "      <td>1.628378e+06</td>\n",
       "      <td>253.500000</td>\n",
       "      <td>NaN</td>\n",
       "      <td>NaN</td>\n",
       "      <td>33.000000</td>\n",
       "      <td>675.500000</td>\n",
       "      <td>93.000000</td>\n",
       "      <td>203.500000</td>\n",
       "      <td>0.441000</td>\n",
       "      <td>22.000000</td>\n",
       "      <td>...</td>\n",
       "      <td>103.000000</td>\n",
       "      <td>48.00000</td>\n",
       "      <td>18.500000</td>\n",
       "      <td>9.00000</td>\n",
       "      <td>28.500000</td>\n",
       "      <td>53.000000</td>\n",
       "      <td>251.500000</td>\n",
       "      <td>302.500000</td>\n",
       "      <td>1.615000</td>\n",
       "      <td>0.570000</td>\n",
       "    </tr>\n",
       "  </tbody>\n",
       "</table>\n",
       "<p>4 rows × 27 columns</p>\n",
       "</div>"
      ],
      "text/plain": [
       "           PLAYER_ID        RANK           PLAYER TEAM         GP  \\\n",
       "min     2.544000e+03    1.000000     Aaron Gordon  ATL   1.000000   \n",
       "max     1.630271e+06  503.000000  Zion Williamson  WAS  50.000000   \n",
       "mean    1.141579e+06  253.077075              NaN  NaN  30.683794   \n",
       "median  1.628378e+06  253.500000              NaN  NaN  33.000000   \n",
       "\n",
       "                MIN         FGM         FGA    FG_PCT        FG3M  ...  \\\n",
       "min        3.000000    0.000000    0.000000  0.000000    0.000000  ...   \n",
       "max     1810.000000  503.000000  969.000000  1.000000  198.000000  ...   \n",
       "mean     696.667984  118.312253  254.666008  0.441164   36.752964  ...   \n",
       "median   675.500000   93.000000  203.500000  0.441000   22.000000  ...   \n",
       "\n",
       "               REB        AST        STL        BLK         TOV          PF  \\\n",
       "min       0.000000    0.00000   0.000000    0.00000    0.000000    0.000000   \n",
       "max     646.000000  454.00000  77.000000  156.00000  206.000000  169.000000   \n",
       "mean    127.772727   71.01581  21.743083   14.13834   38.464427   56.132411   \n",
       "median  103.000000   48.00000  18.500000    9.00000   28.500000   53.000000   \n",
       "\n",
       "                PTS          EFF    AST_TOV   STL_TOV  \n",
       "min        0.000000    -4.000000   0.000000  0.000000  \n",
       "max     1391.000000  1750.000000  13.000000  6.000000  \n",
       "mean     322.197628   368.067194   1.753063  0.666581  \n",
       "median   251.500000   302.500000   1.615000  0.570000  \n",
       "\n",
       "[4 rows x 27 columns]"
      ]
     },
     "execution_count": 61,
     "metadata": {},
     "output_type": "execute_result"
    }
   ],
   "source": [
    "ll_df.aggregate(['min', 'max' ,'mean', 'median'])"
   ]
  },
  {
   "cell_type": "markdown",
   "metadata": {},
   "source": [
    "### Predictive modeling"
   ]
  },
  {
   "cell_type": "code",
   "execution_count": 62,
   "metadata": {},
   "outputs": [],
   "source": [
    "from sklearn import neighbors, datasets, preprocessing\n",
    "from sklearn.model_selection import train_test_split\n",
    "from sklearn.metrics import accuracy_score\n",
    "\n",
    "X_ll, y_ll = ll_df.iloc[:, 4:26], ll_df.iloc[:, 1]\n"
   ]
  },
  {
   "cell_type": "code",
   "execution_count": 63,
   "metadata": {},
   "outputs": [
    {
     "name": "stdout",
     "output_type": "stream",
     "text": [
      "(506, 22)\n",
      "(506,)\n"
     ]
    }
   ],
   "source": [
    "print(np.shape(X_ll))\n",
    "print(np.shape(y_ll))"
   ]
  },
  {
   "cell_type": "code",
   "execution_count": 64,
   "metadata": {},
   "outputs": [
    {
     "name": "stdout",
     "output_type": "stream",
     "text": [
      "   GP   MIN  FGM  FGA  FG_PCT  FG3M  FG3A  FG3_PCT  FTM  FTA  ...  DREB  REB  \\\n",
      "0  47  1687  429  958   0.448   196   513    0.382  337  360  ...   176  200   \n",
      "1  45  1529  468  829   0.565    51   169    0.302  307  447  ...   432  512   \n",
      "2  41  1454  449  926   0.485    90   266    0.338  296  328  ...   160  206   \n",
      "3  48  1711  503  887   0.567    73   170    0.429  195  225  ...   390  528   \n",
      "4  46  1608  452  884   0.511   156   368    0.424  201  233  ...   201  229   \n",
      "\n",
      "   AST  STL  BLK  TOV   PF   PTS   EFF  AST_TOV  \n",
      "0  363   45   12  150   74  1391  1309     2.42  \n",
      "1  277   51   60  169  129  1294  1524     1.64  \n",
      "2  196   49   15  137  102  1284  1104     1.43  \n",
      "3  405   73   31  147  129  1274  1750     2.76  \n",
      "4  218   39   20  171  112  1261  1132     1.28  \n",
      "\n",
      "[5 rows x 22 columns]\n"
     ]
    }
   ],
   "source": [
    "print(X_ll.head())"
   ]
  },
  {
   "cell_type": "code",
   "execution_count": 65,
   "metadata": {},
   "outputs": [
    {
     "name": "stdout",
     "output_type": "stream",
     "text": [
      "0    1.0\n",
      "1    2.0\n",
      "2    3.0\n",
      "3    4.0\n",
      "4    5.0\n",
      "Name: RANK, dtype: float64\n"
     ]
    }
   ],
   "source": [
    "print(y_ll.head())"
   ]
  },
  {
   "cell_type": "markdown",
   "metadata": {},
   "source": [
    "#### Train-test-split"
   ]
  },
  {
   "cell_type": "code",
   "execution_count": 66,
   "metadata": {},
   "outputs": [],
   "source": [
    "X_train, X_test, y_train, y_test = train_test_split(X_ll, y_ll, random_state=33)\n"
   ]
  },
  {
   "cell_type": "code",
   "execution_count": 67,
   "metadata": {},
   "outputs": [
    {
     "name": "stdout",
     "output_type": "stream",
     "text": [
      "i: (379, 22) of type: <class 'pandas.core.frame.DataFrame'>\n",
      "i: (127, 22) of type: <class 'pandas.core.frame.DataFrame'>\n",
      "i: (379,) of type: <class 'pandas.core.series.Series'>\n",
      "i: (127,) of type: <class 'pandas.core.series.Series'>\n"
     ]
    }
   ],
   "source": [
    "for i in [X_train, X_test, y_train, y_test]:\n",
    "    print(\"i: {} of type: {}\".format(i.shape, type(i)))"
   ]
  },
  {
   "cell_type": "markdown",
   "metadata": {},
   "source": [
    "#### Preprocessing"
   ]
  },
  {
   "cell_type": "code",
   "execution_count": 68,
   "metadata": {},
   "outputs": [],
   "source": [
    "scaler = preprocessing.StandardScaler().fit(X_train)"
   ]
  },
  {
   "cell_type": "code",
   "execution_count": 69,
   "metadata": {},
   "outputs": [],
   "source": [
    "X_train = scaler.transform(X_train)"
   ]
  },
  {
   "cell_type": "code",
   "execution_count": 70,
   "metadata": {},
   "outputs": [],
   "source": [
    "X_test = scaler.transform(X_test)"
   ]
  },
  {
   "cell_type": "markdown",
   "metadata": {},
   "source": [
    "#### KNN-model"
   ]
  },
  {
   "cell_type": "code",
   "execution_count": 71,
   "metadata": {},
   "outputs": [],
   "source": [
    "knn = neighbors.KNeighborsClassifier(n_neighbors=5)"
   ]
  },
  {
   "cell_type": "code",
   "execution_count": 72,
   "metadata": {},
   "outputs": [
    {
     "data": {
      "text/plain": [
       "KNeighborsClassifier()"
      ]
     },
     "execution_count": 72,
     "metadata": {},
     "output_type": "execute_result"
    }
   ],
   "source": [
    "knn.fit(X_train, y_train)"
   ]
  },
  {
   "cell_type": "code",
   "execution_count": 73,
   "metadata": {},
   "outputs": [],
   "source": [
    "y_pred = knn.predict(X_test)"
   ]
  },
  {
   "cell_type": "code",
   "execution_count": 74,
   "metadata": {},
   "outputs": [
    {
     "data": {
      "text/plain": [
       "0.031496062992125984"
      ]
     },
     "execution_count": 74,
     "metadata": {},
     "output_type": "execute_result"
    }
   ],
   "source": [
    "accuracy_score(y_test, y_pred)"
   ]
  },
  {
   "cell_type": "markdown",
   "metadata": {},
   "source": [
    "This seems rather low. The model deliver not good predictions."
   ]
  },
  {
   "cell_type": "markdown",
   "metadata": {},
   "source": [
    "#### LinearRegression-model"
   ]
  },
  {
   "cell_type": "code",
   "execution_count": 75,
   "metadata": {},
   "outputs": [],
   "source": [
    "from sklearn.linear_model import LinearRegression"
   ]
  },
  {
   "cell_type": "code",
   "execution_count": 76,
   "metadata": {},
   "outputs": [
    {
     "name": "stdout",
     "output_type": "stream",
     "text": [
      "Index(['RANK', 'FG_PCT', 'FG3_PCT', 'FT_PCT', 'AST_TOV', 'STL_TOV'], dtype='object')\n",
      "6\n"
     ]
    }
   ],
   "source": [
    "ll_df_n = ll_df.select_dtypes(include=['float'])\n",
    "\n",
    "print(ll_df_n.columns)\n",
    "print(len(ll_df_n.columns))"
   ]
  },
  {
   "cell_type": "code",
   "execution_count": 77,
   "metadata": {},
   "outputs": [
    {
     "data": {
      "text/html": [
       "<div>\n",
       "<style scoped>\n",
       "    .dataframe tbody tr th:only-of-type {\n",
       "        vertical-align: middle;\n",
       "    }\n",
       "\n",
       "    .dataframe tbody tr th {\n",
       "        vertical-align: top;\n",
       "    }\n",
       "\n",
       "    .dataframe thead th {\n",
       "        text-align: right;\n",
       "    }\n",
       "</style>\n",
       "<table border=\"1\" class=\"dataframe\">\n",
       "  <thead>\n",
       "    <tr style=\"text-align: right;\">\n",
       "      <th></th>\n",
       "      <th>RANK</th>\n",
       "      <th>FG_PCT</th>\n",
       "      <th>FG3_PCT</th>\n",
       "      <th>FT_PCT</th>\n",
       "      <th>AST_TOV</th>\n",
       "      <th>STL_TOV</th>\n",
       "    </tr>\n",
       "  </thead>\n",
       "  <tbody>\n",
       "    <tr>\n",
       "      <th>min</th>\n",
       "      <td>1.000000</td>\n",
       "      <td>0.000000</td>\n",
       "      <td>0.000000</td>\n",
       "      <td>0.000000</td>\n",
       "      <td>0.000000</td>\n",
       "      <td>0.000000</td>\n",
       "    </tr>\n",
       "    <tr>\n",
       "      <th>max</th>\n",
       "      <td>503.000000</td>\n",
       "      <td>1.000000</td>\n",
       "      <td>1.000000</td>\n",
       "      <td>1.000000</td>\n",
       "      <td>13.000000</td>\n",
       "      <td>6.000000</td>\n",
       "    </tr>\n",
       "    <tr>\n",
       "      <th>mean</th>\n",
       "      <td>253.077075</td>\n",
       "      <td>0.441164</td>\n",
       "      <td>0.299085</td>\n",
       "      <td>0.709567</td>\n",
       "      <td>1.753063</td>\n",
       "      <td>0.666581</td>\n",
       "    </tr>\n",
       "  </tbody>\n",
       "</table>\n",
       "</div>"
      ],
      "text/plain": [
       "            RANK    FG_PCT   FG3_PCT    FT_PCT    AST_TOV   STL_TOV\n",
       "min     1.000000  0.000000  0.000000  0.000000   0.000000  0.000000\n",
       "max   503.000000  1.000000  1.000000  1.000000  13.000000  6.000000\n",
       "mean  253.077075  0.441164  0.299085  0.709567   1.753063  0.666581"
      ]
     },
     "execution_count": 77,
     "metadata": {},
     "output_type": "execute_result"
    }
   ],
   "source": [
    "ll_df_n.aggregate(['min', 'max', 'mean'])"
   ]
  },
  {
   "cell_type": "markdown",
   "metadata": {},
   "source": [
    "#### Train-test-split"
   ]
  },
  {
   "cell_type": "code",
   "execution_count": 78,
   "metadata": {},
   "outputs": [],
   "source": [
    "X_n, y_n = ll_df_n.iloc[:, 1:len(ll_df_n.columns)], ll_df_n.iloc[:, 1]"
   ]
  },
  {
   "cell_type": "code",
   "execution_count": 79,
   "metadata": {},
   "outputs": [],
   "source": [
    "X_train_n, X_test_n, y_train_n, y_test_n = train_test_split(X_n, y_n, random_state=33)"
   ]
  },
  {
   "cell_type": "code",
   "execution_count": 80,
   "metadata": {},
   "outputs": [
    {
     "name": "stdout",
     "output_type": "stream",
     "text": [
      "i: (379, 5) of type: <class 'pandas.core.frame.DataFrame'>\n",
      "i: (127, 5) of type: <class 'pandas.core.frame.DataFrame'>\n",
      "i: (379,) of type: <class 'pandas.core.series.Series'>\n",
      "i: (127,) of type: <class 'pandas.core.series.Series'>\n"
     ]
    }
   ],
   "source": [
    "for i in [X_train_n, X_test_n, y_train_n, y_test_n]:\n",
    "    print(\"i: {} of type: {}\".format(i.shape, type(i)))"
   ]
  },
  {
   "cell_type": "markdown",
   "metadata": {},
   "source": [
    "#### Preprocessing"
   ]
  },
  {
   "cell_type": "code",
   "execution_count": 81,
   "metadata": {},
   "outputs": [],
   "source": [
    "scaler_n = preprocessing.StandardScaler().fit(X_train_n)"
   ]
  },
  {
   "cell_type": "code",
   "execution_count": 82,
   "metadata": {},
   "outputs": [],
   "source": [
    "X_train_n = scaler_n.transform(X_train_n)"
   ]
  },
  {
   "cell_type": "code",
   "execution_count": 83,
   "metadata": {},
   "outputs": [],
   "source": [
    "X_test_n = scaler_n.transform(X_test_n)"
   ]
  },
  {
   "cell_type": "code",
   "execution_count": 84,
   "metadata": {},
   "outputs": [],
   "source": [
    "lr = LinearRegression(normalize=True)"
   ]
  },
  {
   "cell_type": "code",
   "execution_count": 85,
   "metadata": {},
   "outputs": [
    {
     "data": {
      "text/plain": [
       "LinearRegression(normalize=True)"
      ]
     },
     "execution_count": 85,
     "metadata": {},
     "output_type": "execute_result"
    }
   ],
   "source": [
    "lr.fit(X_train_n, y_train_n)"
   ]
  },
  {
   "cell_type": "code",
   "execution_count": 86,
   "metadata": {},
   "outputs": [
    {
     "name": "stdout",
     "output_type": "stream",
     "text": [
      "[0.398 0.446 0.667 0.444 0.45 ]\n"
     ]
    }
   ],
   "source": [
    "ylr_pred_n = lr.predict(X_test_n)\n",
    "print(ylr_pred_n[:5])"
   ]
  },
  {
   "cell_type": "code",
   "execution_count": 87,
   "metadata": {},
   "outputs": [
    {
     "data": {
      "text/plain": [
       "1.7811648918690996e-16"
      ]
     },
     "execution_count": 87,
     "metadata": {},
     "output_type": "execute_result"
    }
   ],
   "source": [
    "from sklearn.metrics import mean_absolute_error\n",
    "mean_absolute_error(y_test_n, ylr_pred_n)\n"
   ]
  },
  {
   "cell_type": "code",
   "execution_count": 88,
   "metadata": {},
   "outputs": [
    {
     "data": {
      "text/plain": [
       "7.538120131937065e-32"
      ]
     },
     "execution_count": 88,
     "metadata": {},
     "output_type": "execute_result"
    }
   ],
   "source": [
    "from sklearn.metrics import mean_squared_error\n",
    "mean_squared_error(y_test_n, ylr_pred_n)"
   ]
  },
  {
   "cell_type": "code",
   "execution_count": 89,
   "metadata": {},
   "outputs": [
    {
     "data": {
      "text/plain": [
       "1.0"
      ]
     },
     "execution_count": 89,
     "metadata": {},
     "output_type": "execute_result"
    }
   ],
   "source": [
    "# R² Score\n",
    "from sklearn.metrics import r2_score\n",
    "r2_score(y_test_n, ylr_pred_n)"
   ]
  },
  {
   "cell_type": "markdown",
   "metadata": {},
   "source": [
    "The variance in the dependent variable is 100 percent predicted by the independent variables."
   ]
  },
  {
   "cell_type": "markdown",
   "metadata": {
    "tags": []
   },
   "source": [
    "### An example for a dysfunctional endpoint: LeagueGameFinder\n",
    "\n",
    "<p>\n",
    "LeagueGameFinder provides a variety of staticals information about the NBA games. It is in the path:<br>\n",
    "nba_api/docs/nba_api/stats/endpoints/<br>\n",
    "of the NBA API. It is one of many statistical modules of the API.<br>\n",
    "<a href=\"https://github.com/swar/nba_api/blob/master/docs/nba_api/stats/endpoints/leaguegamefinder.md\" target=\"_blank\">Github</a><br>\n",
    "</p> \n",
    "<p>\n",
    "However at the point of this project the API does not work.<br>\n",
    "</p>     \n",
    "\n",
    "<p>    \n",
    "<img src=\"league_error.png\" alt=\"Smiley face\" height=\"600\" width=\"600\">     \n",
    "</p>   \n",
    "\n",
    "<p>    \n",
    "There is a Stack post concerning the problem:\n",
    "<a href=\"https://stackoverflow.com/questions/66736607/connection-timeout-error-is-thrown-while-using-leaguegamefinder-of-nba-api-stats\" target=\"_blank\">Connection Timeout error is thrown while using leaguegamefinder of nba_api.stats.endpoints library</a>. There are also a lot of threads on <a href=\"https://github.com/swar/nba_api/issues/94\" target=\"_blank\">Github </a> on this. One solution is updating. This does not work here.\n",
    "Another suggestion is working around the timeout error with looping. This seems not feasible. The solution could be to adapt the API soruce code to the changes on the server site. This would be a substantial effort probably. This is not the goal of this project, but the error is kept in the project. It\n",
    "is very instructive for the issues someone can run into, when dealing with API's not only maintained by the communities but also enterprises.\n",
    "</p> \n",
    "\n",
    "\n"
   ]
  },
  {
   "cell_type": "code",
   "execution_count": 90,
   "metadata": {},
   "outputs": [],
   "source": [
    "nk = !pip install --upgrade nba_api\n",
    "# Requirement already satisfied"
   ]
  },
  {
   "cell_type": "code",
   "execution_count": 91,
   "metadata": {},
   "outputs": [],
   "source": [
    "from nba_api.stats.endpoints import leaguegamefinder\n",
    "# leaguegamefinder"
   ]
  },
  {
   "cell_type": "markdown",
   "metadata": {},
   "source": [
    "### help(leaguegamefinder)\n",
    "shows a time out error at 30 calls.\n",
    "\n",
    "\n",
    "<p>\n",
    "<img src=\"league_error_timeout.png\" alt=\"error\" height=\"700\" width=\"700\">     \n",
    "</p>"
   ]
  },
  {
   "cell_type": "markdown",
   "metadata": {},
   "source": [
    "The parameter <code>team_id_nullable</code> is the unique ID for the warriors. Under the hood, the NBA API is making a HTTP request.  \n",
    "The information requested is provided and is transmitted via an HTTP response this is assigned to the object <code>gamefinder</code>.\n"
   ]
  },
  {
   "cell_type": "code",
   "execution_count": 92,
   "metadata": {},
   "outputs": [
    {
     "data": {
      "text/plain": [
       "['DataSet',\n",
       " '__class__',\n",
       " '__delattr__',\n",
       " '__dict__',\n",
       " '__dir__',\n",
       " '__doc__',\n",
       " '__eq__',\n",
       " '__format__',\n",
       " '__ge__',\n",
       " '__getattribute__',\n",
       " '__gt__',\n",
       " '__hash__',\n",
       " '__init__',\n",
       " '__init_subclass__',\n",
       " '__le__',\n",
       " '__lt__',\n",
       " '__module__',\n",
       " '__ne__',\n",
       " '__new__',\n",
       " '__reduce__',\n",
       " '__reduce_ex__',\n",
       " '__repr__',\n",
       " '__setattr__',\n",
       " '__sizeof__',\n",
       " '__str__',\n",
       " '__subclasshook__',\n",
       " '__weakref__',\n",
       " 'data_sets',\n",
       " 'endpoint',\n",
       " 'expected_data',\n",
       " 'get_available_data',\n",
       " 'get_data_frames',\n",
       " 'get_dict',\n",
       " 'get_json',\n",
       " 'get_normalized_dict',\n",
       " 'get_normalized_json',\n",
       " 'get_request',\n",
       " 'get_request_url',\n",
       " 'get_response',\n",
       " 'headers',\n",
       " 'load_response',\n",
       " 'nba_response',\n",
       " 'player_stats',\n",
       " 'team_stats']"
      ]
     },
     "execution_count": 92,
     "metadata": {},
     "output_type": "execute_result"
    }
   ],
   "source": [
    "dir(leaguegamefinder.LeagueGameFinder)"
   ]
  },
  {
   "cell_type": "code",
   "execution_count": 93,
   "metadata": {
    "collapsed": false,
    "jupyter": {
     "outputs_hidden": false
    }
   },
   "outputs": [],
   "source": [
    "# This code does not work but should.\n",
    "\n",
    "# find_games =  leaguegamefinder.LeagueGameFinder(team_id_nullable=1610612751 )\n",
    "# find_games.get_json()[:500]\n",
    "# find_games = gamefinder.get_data_frames()[0]\n",
    "# find_games.head()"
   ]
  }
 ],
 "metadata": {
  "kernelspec": {
   "display_name": "Python 3",
   "language": "python",
   "name": "python3"
  },
  "language_info": {
   "codemirror_mode": {
    "name": "ipython",
    "version": 3
   },
   "file_extension": ".py",
   "mimetype": "text/x-python",
   "name": "python",
   "nbconvert_exporter": "python",
   "pygments_lexer": "ipython3",
   "version": "3.7.10"
  }
 },
 "nbformat": 4,
 "nbformat_minor": 4
}
